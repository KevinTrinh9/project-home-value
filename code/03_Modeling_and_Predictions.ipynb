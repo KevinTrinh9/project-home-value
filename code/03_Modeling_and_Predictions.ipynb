{
 "cells": [
  {
   "cell_type": "markdown",
   "id": "edf05ed6-da70-4dc7-b215-7528b1468611",
   "metadata": {},
   "source": [
    "<img src=\"http://imgur.com/1ZcRyrc.png\" style=\"float: left; margin: 20px; height: 55px\">\n",
    "\n",
    "# Project 2 - Factors Affecting the Value of Your Home"
   ]
  },
  {
   "cell_type": "markdown",
   "id": "b85de4ac-33e9-47f3-9e1b-22795497fd64",
   "metadata": {},
   "source": [
    "# Modeling and Predictions"
   ]
  },
  {
   "cell_type": "code",
   "execution_count": 1,
   "id": "fafbca35-18a1-41b8-ae84-9462eeaf1999",
   "metadata": {},
   "outputs": [],
   "source": [
    "import pandas as pd\n",
    "import numpy as np\n",
    "import matplotlib.pyplot as plt\n",
    "import seaborn as sns\n",
    "\n",
    "from sklearn.linear_model import LinearRegression, Lasso, Ridge\n",
    "from sklearn.preprocessing import StandardScaler, OneHotEncoder, PolynomialFeatures\n",
    "from sklearn.model_selection import train_test_split, cross_val_score\n",
    "from sklearn.metrics import mean_squared_error\n",
    "from sklearn.pipeline import Pipeline\n",
    "from sklearn.compose import make_column_transformer\n",
    "\n",
    "import statsmodels.api as sm"
   ]
  },
  {
   "cell_type": "code",
   "execution_count": 2,
   "id": "f45e4914-eaf8-4f24-913b-9fce7d8df705",
   "metadata": {},
   "outputs": [],
   "source": [
    "import warnings\n",
    "from sklearn.exceptions import ConvergenceWarning\n",
    "from scipy.linalg import LinAlgWarning\n",
    "\n",
    "warnings.filterwarnings(\"ignore\", category=ConvergenceWarning)\n",
    "warnings.filterwarnings(\"ignore\", category=LinAlgWarning)"
   ]
  },
  {
   "cell_type": "code",
   "execution_count": 3,
   "id": "4600e9c0-4607-4263-a839-274bd5fa7862",
   "metadata": {},
   "outputs": [],
   "source": [
    "# read in datasets\n",
    "train_selected = pd.read_csv('../data/train_selected.csv')\n",
    "test_cleaned = pd.read_csv('../data/test_cleaned.csv')"
   ]
  },
  {
   "cell_type": "code",
   "execution_count": 4,
   "id": "1377d15a-5fa7-4870-bc11-3fc74afd5d5a",
   "metadata": {},
   "outputs": [],
   "source": [
    "# declare numerical and categorical columns\n",
    "numerical_columns = test_cleaned.select_dtypes(include=['int', 'float']).columns\n",
    "categorical_columns = test_cleaned.select_dtypes(include=['object']).columns"
   ]
  },
  {
   "cell_type": "code",
   "execution_count": 5,
   "id": "b9df1762-e2de-4a29-af32-ff5f96fa6e1c",
   "metadata": {},
   "outputs": [],
   "source": [
    "# dummify dataset\n",
    "test_cleaned = pd.get_dummies(test_cleaned, columns=categorical_columns, drop_first=True)"
   ]
  },
  {
   "cell_type": "code",
   "execution_count": 6,
   "id": "f8c4c1cd-3633-486d-98f3-3deb6574d608",
   "metadata": {},
   "outputs": [],
   "source": [
    "# declare X and y variables\n",
    "X = train_selected.drop(columns=['SalePrice'])\n",
    "y = train_selected['SalePrice']"
   ]
  },
  {
   "cell_type": "code",
   "execution_count": 7,
   "id": "9a7b7322-2461-4896-acce-1eb377fbf94b",
   "metadata": {},
   "outputs": [],
   "source": [
    "# train test split\n",
    "X_train, X_test, y_train, y_test = train_test_split(X, y, test_size=0.2, random_state=999)"
   ]
  },
  {
   "cell_type": "code",
   "execution_count": 8,
   "id": "20433615-8e87-4dce-b5fc-91d56ef231f3",
   "metadata": {},
   "outputs": [
    {
     "data": {
      "text/plain": [
       "76408.06363301"
      ]
     },
     "execution_count": 8,
     "metadata": {},
     "output_type": "execute_result"
    }
   ],
   "source": [
    "# establish baseline rmse\n",
    "baseline_preds = np.full_like(y_test, fill_value=y_train.mean())\n",
    "baseline_rmse = mean_squared_error(y_test, baseline_preds, squared=False)\n",
    "baseline_rmse"
   ]
  },
  {
   "cell_type": "code",
   "execution_count": 9,
   "id": "6c21037a-ea8c-4696-b5ef-3c09da70a613",
   "metadata": {},
   "outputs": [
    {
     "name": "stdout",
     "output_type": "stream",
     "text": [
      "<class 'pandas.core.frame.DataFrame'>\n",
      "RangeIndex: 1538 entries, 0 to 1537\n",
      "Data columns (total 21 columns):\n",
      " #   Column                Non-Null Count  Dtype  \n",
      "---  ------                --------------  -----  \n",
      " 0   SalePrice             1538 non-null   int64  \n",
      " 1   Overall Qual          1538 non-null   int64  \n",
      " 2   Gr Liv Area           1538 non-null   int64  \n",
      " 3   Garage Cars           1538 non-null   float64\n",
      " 4   Garage Area           1538 non-null   float64\n",
      " 5   Total Bsmt SF         1538 non-null   float64\n",
      " 6   1st Flr SF            1538 non-null   int64  \n",
      " 7   Exter Qual_TA         1538 non-null   int64  \n",
      " 8   Year Built            1538 non-null   int64  \n",
      " 9   Year Remod/Add        1538 non-null   int64  \n",
      " 10  Full Bath             1538 non-null   int64  \n",
      " 11  Kitchen Qual_TA       1538 non-null   int64  \n",
      " 12  Foundation_PConc      1538 non-null   int64  \n",
      " 13  TotRms AbvGrd         1538 non-null   int64  \n",
      " 14  Mas Vnr Area          1538 non-null   float64\n",
      " 15  Garage Yr Blt         1538 non-null   float64\n",
      " 16  Fireplace Qu_Unknown  1538 non-null   int64  \n",
      " 17  Fireplaces            1538 non-null   int64  \n",
      " 18  BsmtFin Type 1_GLQ    1538 non-null   int64  \n",
      " 19  Bsmt Qual_TA          1538 non-null   int64  \n",
      " 20  Exter Qual_Gd         1538 non-null   int64  \n",
      "dtypes: float64(5), int64(16)\n",
      "memory usage: 252.5 KB\n"
     ]
    }
   ],
   "source": [
    "train_selected.info()"
   ]
  },
  {
   "cell_type": "code",
   "execution_count": 10,
   "id": "ac17e49e-baee-4a07-8dcc-1043296b2b9c",
   "metadata": {},
   "outputs": [
    {
     "data": {
      "text/html": [
       "<style>#sk-container-id-1 {color: black;background-color: white;}#sk-container-id-1 pre{padding: 0;}#sk-container-id-1 div.sk-toggleable {background-color: white;}#sk-container-id-1 label.sk-toggleable__label {cursor: pointer;display: block;width: 100%;margin-bottom: 0;padding: 0.3em;box-sizing: border-box;text-align: center;}#sk-container-id-1 label.sk-toggleable__label-arrow:before {content: \"▸\";float: left;margin-right: 0.25em;color: #696969;}#sk-container-id-1 label.sk-toggleable__label-arrow:hover:before {color: black;}#sk-container-id-1 div.sk-estimator:hover label.sk-toggleable__label-arrow:before {color: black;}#sk-container-id-1 div.sk-toggleable__content {max-height: 0;max-width: 0;overflow: hidden;text-align: left;background-color: #f0f8ff;}#sk-container-id-1 div.sk-toggleable__content pre {margin: 0.2em;color: black;border-radius: 0.25em;background-color: #f0f8ff;}#sk-container-id-1 input.sk-toggleable__control:checked~div.sk-toggleable__content {max-height: 200px;max-width: 100%;overflow: auto;}#sk-container-id-1 input.sk-toggleable__control:checked~label.sk-toggleable__label-arrow:before {content: \"▾\";}#sk-container-id-1 div.sk-estimator input.sk-toggleable__control:checked~label.sk-toggleable__label {background-color: #d4ebff;}#sk-container-id-1 div.sk-label input.sk-toggleable__control:checked~label.sk-toggleable__label {background-color: #d4ebff;}#sk-container-id-1 input.sk-hidden--visually {border: 0;clip: rect(1px 1px 1px 1px);clip: rect(1px, 1px, 1px, 1px);height: 1px;margin: -1px;overflow: hidden;padding: 0;position: absolute;width: 1px;}#sk-container-id-1 div.sk-estimator {font-family: monospace;background-color: #f0f8ff;border: 1px dotted black;border-radius: 0.25em;box-sizing: border-box;margin-bottom: 0.5em;}#sk-container-id-1 div.sk-estimator:hover {background-color: #d4ebff;}#sk-container-id-1 div.sk-parallel-item::after {content: \"\";width: 100%;border-bottom: 1px solid gray;flex-grow: 1;}#sk-container-id-1 div.sk-label:hover label.sk-toggleable__label {background-color: #d4ebff;}#sk-container-id-1 div.sk-serial::before {content: \"\";position: absolute;border-left: 1px solid gray;box-sizing: border-box;top: 0;bottom: 0;left: 50%;z-index: 0;}#sk-container-id-1 div.sk-serial {display: flex;flex-direction: column;align-items: center;background-color: white;padding-right: 0.2em;padding-left: 0.2em;position: relative;}#sk-container-id-1 div.sk-item {position: relative;z-index: 1;}#sk-container-id-1 div.sk-parallel {display: flex;align-items: stretch;justify-content: center;background-color: white;position: relative;}#sk-container-id-1 div.sk-item::before, #sk-container-id-1 div.sk-parallel-item::before {content: \"\";position: absolute;border-left: 1px solid gray;box-sizing: border-box;top: 0;bottom: 0;left: 50%;z-index: -1;}#sk-container-id-1 div.sk-parallel-item {display: flex;flex-direction: column;z-index: 1;position: relative;background-color: white;}#sk-container-id-1 div.sk-parallel-item:first-child::after {align-self: flex-end;width: 50%;}#sk-container-id-1 div.sk-parallel-item:last-child::after {align-self: flex-start;width: 50%;}#sk-container-id-1 div.sk-parallel-item:only-child::after {width: 0;}#sk-container-id-1 div.sk-dashed-wrapped {border: 1px dashed gray;margin: 0 0.4em 0.5em 0.4em;box-sizing: border-box;padding-bottom: 0.4em;background-color: white;}#sk-container-id-1 div.sk-label label {font-family: monospace;font-weight: bold;display: inline-block;line-height: 1.2em;}#sk-container-id-1 div.sk-label-container {text-align: center;}#sk-container-id-1 div.sk-container {/* jupyter's `normalize.less` sets `[hidden] { display: none; }` but bootstrap.min.css set `[hidden] { display: none !important; }` so we also need the `!important` here to be able to override the default hidden behavior on the sphinx rendered scikit-learn.org. See: https://github.com/scikit-learn/scikit-learn/issues/21755 */display: inline-block !important;position: relative;}#sk-container-id-1 div.sk-text-repr-fallback {display: none;}</style><div id=\"sk-container-id-1\" class=\"sk-top-container\"><div class=\"sk-text-repr-fallback\"><pre>ColumnTransformer(transformers=[(&#x27;standardscaler&#x27;, StandardScaler(),\n",
       "                                 Index([&#x27;Overall Qual&#x27;, &#x27;Gr Liv Area&#x27;, &#x27;Garage Cars&#x27;, &#x27;Garage Area&#x27;,\n",
       "       &#x27;Total Bsmt SF&#x27;, &#x27;1st Flr SF&#x27;, &#x27;Exter Qual_TA&#x27;, &#x27;Year Built&#x27;,\n",
       "       &#x27;Year Remod/Add&#x27;, &#x27;Full Bath&#x27;, &#x27;Kitchen Qual_TA&#x27;, &#x27;Foundation_PConc&#x27;,\n",
       "       &#x27;TotRms AbvGrd&#x27;, &#x27;Mas Vnr Area&#x27;, &#x27;Garage Yr Blt&#x27;,\n",
       "       &#x27;Fireplace Qu_Unknown&#x27;, &#x27;Fireplaces&#x27;, &#x27;BsmtFin Type 1_GLQ&#x27;,\n",
       "       &#x27;Bsmt Qual_TA&#x27;...\n",
       "                                (&#x27;polynomialfeatures&#x27;, PolynomialFeatures(),\n",
       "                                 Index([&#x27;Overall Qual&#x27;, &#x27;Gr Liv Area&#x27;, &#x27;Garage Cars&#x27;, &#x27;Garage Area&#x27;,\n",
       "       &#x27;Total Bsmt SF&#x27;, &#x27;1st Flr SF&#x27;, &#x27;Exter Qual_TA&#x27;, &#x27;Year Built&#x27;,\n",
       "       &#x27;Year Remod/Add&#x27;, &#x27;Full Bath&#x27;, &#x27;Kitchen Qual_TA&#x27;, &#x27;Foundation_PConc&#x27;,\n",
       "       &#x27;TotRms AbvGrd&#x27;, &#x27;Mas Vnr Area&#x27;, &#x27;Garage Yr Blt&#x27;,\n",
       "       &#x27;Fireplace Qu_Unknown&#x27;, &#x27;Fireplaces&#x27;, &#x27;BsmtFin Type 1_GLQ&#x27;,\n",
       "       &#x27;Bsmt Qual_TA&#x27;, &#x27;Exter Qual_Gd&#x27;],\n",
       "      dtype=&#x27;object&#x27;))])</pre><b>In a Jupyter environment, please rerun this cell to show the HTML representation or trust the notebook. <br />On GitHub, the HTML representation is unable to render, please try loading this page with nbviewer.org.</b></div><div class=\"sk-container\" hidden><div class=\"sk-item sk-dashed-wrapped\"><div class=\"sk-label-container\"><div class=\"sk-label sk-toggleable\"><input class=\"sk-toggleable__control sk-hidden--visually\" id=\"sk-estimator-id-1\" type=\"checkbox\" ><label for=\"sk-estimator-id-1\" class=\"sk-toggleable__label sk-toggleable__label-arrow\">ColumnTransformer</label><div class=\"sk-toggleable__content\"><pre>ColumnTransformer(transformers=[(&#x27;standardscaler&#x27;, StandardScaler(),\n",
       "                                 Index([&#x27;Overall Qual&#x27;, &#x27;Gr Liv Area&#x27;, &#x27;Garage Cars&#x27;, &#x27;Garage Area&#x27;,\n",
       "       &#x27;Total Bsmt SF&#x27;, &#x27;1st Flr SF&#x27;, &#x27;Exter Qual_TA&#x27;, &#x27;Year Built&#x27;,\n",
       "       &#x27;Year Remod/Add&#x27;, &#x27;Full Bath&#x27;, &#x27;Kitchen Qual_TA&#x27;, &#x27;Foundation_PConc&#x27;,\n",
       "       &#x27;TotRms AbvGrd&#x27;, &#x27;Mas Vnr Area&#x27;, &#x27;Garage Yr Blt&#x27;,\n",
       "       &#x27;Fireplace Qu_Unknown&#x27;, &#x27;Fireplaces&#x27;, &#x27;BsmtFin Type 1_GLQ&#x27;,\n",
       "       &#x27;Bsmt Qual_TA&#x27;...\n",
       "                                (&#x27;polynomialfeatures&#x27;, PolynomialFeatures(),\n",
       "                                 Index([&#x27;Overall Qual&#x27;, &#x27;Gr Liv Area&#x27;, &#x27;Garage Cars&#x27;, &#x27;Garage Area&#x27;,\n",
       "       &#x27;Total Bsmt SF&#x27;, &#x27;1st Flr SF&#x27;, &#x27;Exter Qual_TA&#x27;, &#x27;Year Built&#x27;,\n",
       "       &#x27;Year Remod/Add&#x27;, &#x27;Full Bath&#x27;, &#x27;Kitchen Qual_TA&#x27;, &#x27;Foundation_PConc&#x27;,\n",
       "       &#x27;TotRms AbvGrd&#x27;, &#x27;Mas Vnr Area&#x27;, &#x27;Garage Yr Blt&#x27;,\n",
       "       &#x27;Fireplace Qu_Unknown&#x27;, &#x27;Fireplaces&#x27;, &#x27;BsmtFin Type 1_GLQ&#x27;,\n",
       "       &#x27;Bsmt Qual_TA&#x27;, &#x27;Exter Qual_Gd&#x27;],\n",
       "      dtype=&#x27;object&#x27;))])</pre></div></div></div><div class=\"sk-parallel\"><div class=\"sk-parallel-item\"><div class=\"sk-item\"><div class=\"sk-label-container\"><div class=\"sk-label sk-toggleable\"><input class=\"sk-toggleable__control sk-hidden--visually\" id=\"sk-estimator-id-2\" type=\"checkbox\" ><label for=\"sk-estimator-id-2\" class=\"sk-toggleable__label sk-toggleable__label-arrow\">standardscaler</label><div class=\"sk-toggleable__content\"><pre>Index([&#x27;Overall Qual&#x27;, &#x27;Gr Liv Area&#x27;, &#x27;Garage Cars&#x27;, &#x27;Garage Area&#x27;,\n",
       "       &#x27;Total Bsmt SF&#x27;, &#x27;1st Flr SF&#x27;, &#x27;Exter Qual_TA&#x27;, &#x27;Year Built&#x27;,\n",
       "       &#x27;Year Remod/Add&#x27;, &#x27;Full Bath&#x27;, &#x27;Kitchen Qual_TA&#x27;, &#x27;Foundation_PConc&#x27;,\n",
       "       &#x27;TotRms AbvGrd&#x27;, &#x27;Mas Vnr Area&#x27;, &#x27;Garage Yr Blt&#x27;,\n",
       "       &#x27;Fireplace Qu_Unknown&#x27;, &#x27;Fireplaces&#x27;, &#x27;BsmtFin Type 1_GLQ&#x27;,\n",
       "       &#x27;Bsmt Qual_TA&#x27;, &#x27;Exter Qual_Gd&#x27;],\n",
       "      dtype=&#x27;object&#x27;)</pre></div></div></div><div class=\"sk-serial\"><div class=\"sk-item\"><div class=\"sk-estimator sk-toggleable\"><input class=\"sk-toggleable__control sk-hidden--visually\" id=\"sk-estimator-id-3\" type=\"checkbox\" ><label for=\"sk-estimator-id-3\" class=\"sk-toggleable__label sk-toggleable__label-arrow\">StandardScaler</label><div class=\"sk-toggleable__content\"><pre>StandardScaler()</pre></div></div></div></div></div></div><div class=\"sk-parallel-item\"><div class=\"sk-item\"><div class=\"sk-label-container\"><div class=\"sk-label sk-toggleable\"><input class=\"sk-toggleable__control sk-hidden--visually\" id=\"sk-estimator-id-4\" type=\"checkbox\" ><label for=\"sk-estimator-id-4\" class=\"sk-toggleable__label sk-toggleable__label-arrow\">polynomialfeatures</label><div class=\"sk-toggleable__content\"><pre>Index([&#x27;Overall Qual&#x27;, &#x27;Gr Liv Area&#x27;, &#x27;Garage Cars&#x27;, &#x27;Garage Area&#x27;,\n",
       "       &#x27;Total Bsmt SF&#x27;, &#x27;1st Flr SF&#x27;, &#x27;Exter Qual_TA&#x27;, &#x27;Year Built&#x27;,\n",
       "       &#x27;Year Remod/Add&#x27;, &#x27;Full Bath&#x27;, &#x27;Kitchen Qual_TA&#x27;, &#x27;Foundation_PConc&#x27;,\n",
       "       &#x27;TotRms AbvGrd&#x27;, &#x27;Mas Vnr Area&#x27;, &#x27;Garage Yr Blt&#x27;,\n",
       "       &#x27;Fireplace Qu_Unknown&#x27;, &#x27;Fireplaces&#x27;, &#x27;BsmtFin Type 1_GLQ&#x27;,\n",
       "       &#x27;Bsmt Qual_TA&#x27;, &#x27;Exter Qual_Gd&#x27;],\n",
       "      dtype=&#x27;object&#x27;)</pre></div></div></div><div class=\"sk-serial\"><div class=\"sk-item\"><div class=\"sk-estimator sk-toggleable\"><input class=\"sk-toggleable__control sk-hidden--visually\" id=\"sk-estimator-id-5\" type=\"checkbox\" ><label for=\"sk-estimator-id-5\" class=\"sk-toggleable__label sk-toggleable__label-arrow\">PolynomialFeatures</label><div class=\"sk-toggleable__content\"><pre>PolynomialFeatures()</pre></div></div></div></div></div></div></div></div></div></div>"
      ],
      "text/plain": [
       "ColumnTransformer(transformers=[('standardscaler', StandardScaler(),\n",
       "                                 Index(['Overall Qual', 'Gr Liv Area', 'Garage Cars', 'Garage Area',\n",
       "       'Total Bsmt SF', '1st Flr SF', 'Exter Qual_TA', 'Year Built',\n",
       "       'Year Remod/Add', 'Full Bath', 'Kitchen Qual_TA', 'Foundation_PConc',\n",
       "       'TotRms AbvGrd', 'Mas Vnr Area', 'Garage Yr Blt',\n",
       "       'Fireplace Qu_Unknown', 'Fireplaces', 'BsmtFin Type 1_GLQ',\n",
       "       'Bsmt Qual_TA'...\n",
       "                                ('polynomialfeatures', PolynomialFeatures(),\n",
       "                                 Index(['Overall Qual', 'Gr Liv Area', 'Garage Cars', 'Garage Area',\n",
       "       'Total Bsmt SF', '1st Flr SF', 'Exter Qual_TA', 'Year Built',\n",
       "       'Year Remod/Add', 'Full Bath', 'Kitchen Qual_TA', 'Foundation_PConc',\n",
       "       'TotRms AbvGrd', 'Mas Vnr Area', 'Garage Yr Blt',\n",
       "       'Fireplace Qu_Unknown', 'Fireplaces', 'BsmtFin Type 1_GLQ',\n",
       "       'Bsmt Qual_TA', 'Exter Qual_Gd'],\n",
       "      dtype='object'))])"
      ]
     },
     "execution_count": 10,
     "metadata": {},
     "output_type": "execute_result"
    }
   ],
   "source": [
    "# define and create transformer with scaling and polynomial features\n",
    "scaler = StandardScaler()\n",
    "poly = PolynomialFeatures(degree=2)\n",
    "\n",
    "numerical_columns = train_selected.drop(columns=['SalePrice']).columns\n",
    "\n",
    "transformer = make_column_transformer((scaler, numerical_columns), (poly, numerical_columns))\n",
    "\n",
    "X_train_transform = transformer.fit_transform(X_train)\n",
    "X_test_transform = transformer.transform(X_test)\n",
    "\n",
    "transformer"
   ]
  },
  {
   "cell_type": "code",
   "execution_count": 11,
   "id": "a653e3bc-a814-4a00-ab06-9c592746cf62",
   "metadata": {},
   "outputs": [
    {
     "data": {
      "text/html": [
       "<style>#sk-container-id-2 {color: black;background-color: white;}#sk-container-id-2 pre{padding: 0;}#sk-container-id-2 div.sk-toggleable {background-color: white;}#sk-container-id-2 label.sk-toggleable__label {cursor: pointer;display: block;width: 100%;margin-bottom: 0;padding: 0.3em;box-sizing: border-box;text-align: center;}#sk-container-id-2 label.sk-toggleable__label-arrow:before {content: \"▸\";float: left;margin-right: 0.25em;color: #696969;}#sk-container-id-2 label.sk-toggleable__label-arrow:hover:before {color: black;}#sk-container-id-2 div.sk-estimator:hover label.sk-toggleable__label-arrow:before {color: black;}#sk-container-id-2 div.sk-toggleable__content {max-height: 0;max-width: 0;overflow: hidden;text-align: left;background-color: #f0f8ff;}#sk-container-id-2 div.sk-toggleable__content pre {margin: 0.2em;color: black;border-radius: 0.25em;background-color: #f0f8ff;}#sk-container-id-2 input.sk-toggleable__control:checked~div.sk-toggleable__content {max-height: 200px;max-width: 100%;overflow: auto;}#sk-container-id-2 input.sk-toggleable__control:checked~label.sk-toggleable__label-arrow:before {content: \"▾\";}#sk-container-id-2 div.sk-estimator input.sk-toggleable__control:checked~label.sk-toggleable__label {background-color: #d4ebff;}#sk-container-id-2 div.sk-label input.sk-toggleable__control:checked~label.sk-toggleable__label {background-color: #d4ebff;}#sk-container-id-2 input.sk-hidden--visually {border: 0;clip: rect(1px 1px 1px 1px);clip: rect(1px, 1px, 1px, 1px);height: 1px;margin: -1px;overflow: hidden;padding: 0;position: absolute;width: 1px;}#sk-container-id-2 div.sk-estimator {font-family: monospace;background-color: #f0f8ff;border: 1px dotted black;border-radius: 0.25em;box-sizing: border-box;margin-bottom: 0.5em;}#sk-container-id-2 div.sk-estimator:hover {background-color: #d4ebff;}#sk-container-id-2 div.sk-parallel-item::after {content: \"\";width: 100%;border-bottom: 1px solid gray;flex-grow: 1;}#sk-container-id-2 div.sk-label:hover label.sk-toggleable__label {background-color: #d4ebff;}#sk-container-id-2 div.sk-serial::before {content: \"\";position: absolute;border-left: 1px solid gray;box-sizing: border-box;top: 0;bottom: 0;left: 50%;z-index: 0;}#sk-container-id-2 div.sk-serial {display: flex;flex-direction: column;align-items: center;background-color: white;padding-right: 0.2em;padding-left: 0.2em;position: relative;}#sk-container-id-2 div.sk-item {position: relative;z-index: 1;}#sk-container-id-2 div.sk-parallel {display: flex;align-items: stretch;justify-content: center;background-color: white;position: relative;}#sk-container-id-2 div.sk-item::before, #sk-container-id-2 div.sk-parallel-item::before {content: \"\";position: absolute;border-left: 1px solid gray;box-sizing: border-box;top: 0;bottom: 0;left: 50%;z-index: -1;}#sk-container-id-2 div.sk-parallel-item {display: flex;flex-direction: column;z-index: 1;position: relative;background-color: white;}#sk-container-id-2 div.sk-parallel-item:first-child::after {align-self: flex-end;width: 50%;}#sk-container-id-2 div.sk-parallel-item:last-child::after {align-self: flex-start;width: 50%;}#sk-container-id-2 div.sk-parallel-item:only-child::after {width: 0;}#sk-container-id-2 div.sk-dashed-wrapped {border: 1px dashed gray;margin: 0 0.4em 0.5em 0.4em;box-sizing: border-box;padding-bottom: 0.4em;background-color: white;}#sk-container-id-2 div.sk-label label {font-family: monospace;font-weight: bold;display: inline-block;line-height: 1.2em;}#sk-container-id-2 div.sk-label-container {text-align: center;}#sk-container-id-2 div.sk-container {/* jupyter's `normalize.less` sets `[hidden] { display: none; }` but bootstrap.min.css set `[hidden] { display: none !important; }` so we also need the `!important` here to be able to override the default hidden behavior on the sphinx rendered scikit-learn.org. See: https://github.com/scikit-learn/scikit-learn/issues/21755 */display: inline-block !important;position: relative;}#sk-container-id-2 div.sk-text-repr-fallback {display: none;}</style><div id=\"sk-container-id-2\" class=\"sk-top-container\"><div class=\"sk-text-repr-fallback\"><pre>LinearRegression()</pre><b>In a Jupyter environment, please rerun this cell to show the HTML representation or trust the notebook. <br />On GitHub, the HTML representation is unable to render, please try loading this page with nbviewer.org.</b></div><div class=\"sk-container\" hidden><div class=\"sk-item\"><div class=\"sk-estimator sk-toggleable\"><input class=\"sk-toggleable__control sk-hidden--visually\" id=\"sk-estimator-id-6\" type=\"checkbox\" checked><label for=\"sk-estimator-id-6\" class=\"sk-toggleable__label sk-toggleable__label-arrow\">LinearRegression</label><div class=\"sk-toggleable__content\"><pre>LinearRegression()</pre></div></div></div></div></div>"
      ],
      "text/plain": [
       "LinearRegression()"
      ]
     },
     "execution_count": 11,
     "metadata": {},
     "output_type": "execute_result"
    }
   ],
   "source": [
    "# create and fit linear regression model\n",
    "lr = LinearRegression()\n",
    "lr.fit(X_train_transform, y_train)"
   ]
  },
  {
   "cell_type": "code",
   "execution_count": 12,
   "id": "c3f6e17d-e552-44e6-8559-17958a61b890",
   "metadata": {},
   "outputs": [
    {
     "data": {
      "text/plain": [
       "0.9206808869704901"
      ]
     },
     "execution_count": 12,
     "metadata": {},
     "output_type": "execute_result"
    }
   ],
   "source": [
    "# display lr train R-Squared score\n",
    "lr.score(X_train_transform, y_train)"
   ]
  },
  {
   "cell_type": "code",
   "execution_count": 13,
   "id": "13e355c3-5a1c-4a73-bb9e-7db7794a761f",
   "metadata": {},
   "outputs": [
    {
     "data": {
      "text/plain": [
       "0.8944649351502988"
      ]
     },
     "execution_count": 13,
     "metadata": {},
     "output_type": "execute_result"
    }
   ],
   "source": [
    "# display lr test R-Squared score\n",
    "lr.score(X_test_transform, y_test)"
   ]
  },
  {
   "cell_type": "code",
   "execution_count": 14,
   "id": "c8a1995d-b32e-414a-a2eb-b88df93a3f01",
   "metadata": {},
   "outputs": [
    {
     "data": {
      "text/plain": [
       "0.7575221322275937"
      ]
     },
     "execution_count": 14,
     "metadata": {},
     "output_type": "execute_result"
    }
   ],
   "source": [
    "# display cross val score\n",
    "cross_val_score(lr, X_train_transform, y_train, cv=5).mean()"
   ]
  },
  {
   "cell_type": "code",
   "execution_count": 15,
   "id": "4967ca09-7bd2-43f3-9aeb-ee24490905dc",
   "metadata": {},
   "outputs": [],
   "source": [
    "# predict lr\n",
    "y_train_pred = lr.predict(X_train_transform)\n",
    "y_test_pred = lr.predict(X_test_transform)"
   ]
  },
  {
   "cell_type": "code",
   "execution_count": 16,
   "id": "99e99002-5283-47dd-b144-1e7417411ddd",
   "metadata": {},
   "outputs": [
    {
     "data": {
      "text/plain": [
       "22616.255591463254"
      ]
     },
     "execution_count": 16,
     "metadata": {},
     "output_type": "execute_result"
    }
   ],
   "source": [
    "# display lr train rmse\n",
    "mean_squared_error(y_train, y_train_pred, squared=False)"
   ]
  },
  {
   "cell_type": "code",
   "execution_count": 17,
   "id": "a1c52754-4e80-4c49-93fa-36681440ba7b",
   "metadata": {},
   "outputs": [
    {
     "data": {
      "text/plain": [
       "24725.474494533413"
      ]
     },
     "execution_count": 17,
     "metadata": {},
     "output_type": "execute_result"
    }
   ],
   "source": [
    "# display lr test rmse\n",
    "mean_squared_error(y_test, y_test_pred, squared=False)"
   ]
  },
  {
   "cell_type": "code",
   "execution_count": 18,
   "id": "6e0e58dd-8428-4328-947a-0a512abf9d0e",
   "metadata": {},
   "outputs": [
    {
     "data": {
      "text/html": [
       "<style>#sk-container-id-3 {color: black;background-color: white;}#sk-container-id-3 pre{padding: 0;}#sk-container-id-3 div.sk-toggleable {background-color: white;}#sk-container-id-3 label.sk-toggleable__label {cursor: pointer;display: block;width: 100%;margin-bottom: 0;padding: 0.3em;box-sizing: border-box;text-align: center;}#sk-container-id-3 label.sk-toggleable__label-arrow:before {content: \"▸\";float: left;margin-right: 0.25em;color: #696969;}#sk-container-id-3 label.sk-toggleable__label-arrow:hover:before {color: black;}#sk-container-id-3 div.sk-estimator:hover label.sk-toggleable__label-arrow:before {color: black;}#sk-container-id-3 div.sk-toggleable__content {max-height: 0;max-width: 0;overflow: hidden;text-align: left;background-color: #f0f8ff;}#sk-container-id-3 div.sk-toggleable__content pre {margin: 0.2em;color: black;border-radius: 0.25em;background-color: #f0f8ff;}#sk-container-id-3 input.sk-toggleable__control:checked~div.sk-toggleable__content {max-height: 200px;max-width: 100%;overflow: auto;}#sk-container-id-3 input.sk-toggleable__control:checked~label.sk-toggleable__label-arrow:before {content: \"▾\";}#sk-container-id-3 div.sk-estimator input.sk-toggleable__control:checked~label.sk-toggleable__label {background-color: #d4ebff;}#sk-container-id-3 div.sk-label input.sk-toggleable__control:checked~label.sk-toggleable__label {background-color: #d4ebff;}#sk-container-id-3 input.sk-hidden--visually {border: 0;clip: rect(1px 1px 1px 1px);clip: rect(1px, 1px, 1px, 1px);height: 1px;margin: -1px;overflow: hidden;padding: 0;position: absolute;width: 1px;}#sk-container-id-3 div.sk-estimator {font-family: monospace;background-color: #f0f8ff;border: 1px dotted black;border-radius: 0.25em;box-sizing: border-box;margin-bottom: 0.5em;}#sk-container-id-3 div.sk-estimator:hover {background-color: #d4ebff;}#sk-container-id-3 div.sk-parallel-item::after {content: \"\";width: 100%;border-bottom: 1px solid gray;flex-grow: 1;}#sk-container-id-3 div.sk-label:hover label.sk-toggleable__label {background-color: #d4ebff;}#sk-container-id-3 div.sk-serial::before {content: \"\";position: absolute;border-left: 1px solid gray;box-sizing: border-box;top: 0;bottom: 0;left: 50%;z-index: 0;}#sk-container-id-3 div.sk-serial {display: flex;flex-direction: column;align-items: center;background-color: white;padding-right: 0.2em;padding-left: 0.2em;position: relative;}#sk-container-id-3 div.sk-item {position: relative;z-index: 1;}#sk-container-id-3 div.sk-parallel {display: flex;align-items: stretch;justify-content: center;background-color: white;position: relative;}#sk-container-id-3 div.sk-item::before, #sk-container-id-3 div.sk-parallel-item::before {content: \"\";position: absolute;border-left: 1px solid gray;box-sizing: border-box;top: 0;bottom: 0;left: 50%;z-index: -1;}#sk-container-id-3 div.sk-parallel-item {display: flex;flex-direction: column;z-index: 1;position: relative;background-color: white;}#sk-container-id-3 div.sk-parallel-item:first-child::after {align-self: flex-end;width: 50%;}#sk-container-id-3 div.sk-parallel-item:last-child::after {align-self: flex-start;width: 50%;}#sk-container-id-3 div.sk-parallel-item:only-child::after {width: 0;}#sk-container-id-3 div.sk-dashed-wrapped {border: 1px dashed gray;margin: 0 0.4em 0.5em 0.4em;box-sizing: border-box;padding-bottom: 0.4em;background-color: white;}#sk-container-id-3 div.sk-label label {font-family: monospace;font-weight: bold;display: inline-block;line-height: 1.2em;}#sk-container-id-3 div.sk-label-container {text-align: center;}#sk-container-id-3 div.sk-container {/* jupyter's `normalize.less` sets `[hidden] { display: none; }` but bootstrap.min.css set `[hidden] { display: none !important; }` so we also need the `!important` here to be able to override the default hidden behavior on the sphinx rendered scikit-learn.org. See: https://github.com/scikit-learn/scikit-learn/issues/21755 */display: inline-block !important;position: relative;}#sk-container-id-3 div.sk-text-repr-fallback {display: none;}</style><div id=\"sk-container-id-3\" class=\"sk-top-container\"><div class=\"sk-text-repr-fallback\"><pre>Pipeline(steps=[(&#x27;transformer&#x27;,\n",
       "                 ColumnTransformer(transformers=[(&#x27;standardscaler&#x27;,\n",
       "                                                  StandardScaler(),\n",
       "                                                  Index([&#x27;Overall Qual&#x27;, &#x27;Gr Liv Area&#x27;, &#x27;Garage Cars&#x27;, &#x27;Garage Area&#x27;,\n",
       "       &#x27;Total Bsmt SF&#x27;, &#x27;1st Flr SF&#x27;, &#x27;Exter Qual_TA&#x27;, &#x27;Year Built&#x27;,\n",
       "       &#x27;Year Remod/Add&#x27;, &#x27;Full Bath&#x27;, &#x27;Kitchen Qual_TA&#x27;, &#x27;Foundation_PConc&#x27;,\n",
       "       &#x27;TotRms AbvGrd&#x27;, &#x27;Mas Vnr Area&#x27;, &#x27;Garage Yr Blt&#x27;,\n",
       "       &#x27;Fireplace Qu_Unknown&#x27;, &#x27;Fireplaces&#x27;, &#x27;...\n",
       "                                                  PolynomialFeatures(),\n",
       "                                                  Index([&#x27;Overall Qual&#x27;, &#x27;Gr Liv Area&#x27;, &#x27;Garage Cars&#x27;, &#x27;Garage Area&#x27;,\n",
       "       &#x27;Total Bsmt SF&#x27;, &#x27;1st Flr SF&#x27;, &#x27;Exter Qual_TA&#x27;, &#x27;Year Built&#x27;,\n",
       "       &#x27;Year Remod/Add&#x27;, &#x27;Full Bath&#x27;, &#x27;Kitchen Qual_TA&#x27;, &#x27;Foundation_PConc&#x27;,\n",
       "       &#x27;TotRms AbvGrd&#x27;, &#x27;Mas Vnr Area&#x27;, &#x27;Garage Yr Blt&#x27;,\n",
       "       &#x27;Fireplace Qu_Unknown&#x27;, &#x27;Fireplaces&#x27;, &#x27;BsmtFin Type 1_GLQ&#x27;,\n",
       "       &#x27;Bsmt Qual_TA&#x27;, &#x27;Exter Qual_Gd&#x27;],\n",
       "      dtype=&#x27;object&#x27;))])),\n",
       "                (&#x27;lasso&#x27;, Lasso(alpha=0.1))])</pre><b>In a Jupyter environment, please rerun this cell to show the HTML representation or trust the notebook. <br />On GitHub, the HTML representation is unable to render, please try loading this page with nbviewer.org.</b></div><div class=\"sk-container\" hidden><div class=\"sk-item sk-dashed-wrapped\"><div class=\"sk-label-container\"><div class=\"sk-label sk-toggleable\"><input class=\"sk-toggleable__control sk-hidden--visually\" id=\"sk-estimator-id-7\" type=\"checkbox\" ><label for=\"sk-estimator-id-7\" class=\"sk-toggleable__label sk-toggleable__label-arrow\">Pipeline</label><div class=\"sk-toggleable__content\"><pre>Pipeline(steps=[(&#x27;transformer&#x27;,\n",
       "                 ColumnTransformer(transformers=[(&#x27;standardscaler&#x27;,\n",
       "                                                  StandardScaler(),\n",
       "                                                  Index([&#x27;Overall Qual&#x27;, &#x27;Gr Liv Area&#x27;, &#x27;Garage Cars&#x27;, &#x27;Garage Area&#x27;,\n",
       "       &#x27;Total Bsmt SF&#x27;, &#x27;1st Flr SF&#x27;, &#x27;Exter Qual_TA&#x27;, &#x27;Year Built&#x27;,\n",
       "       &#x27;Year Remod/Add&#x27;, &#x27;Full Bath&#x27;, &#x27;Kitchen Qual_TA&#x27;, &#x27;Foundation_PConc&#x27;,\n",
       "       &#x27;TotRms AbvGrd&#x27;, &#x27;Mas Vnr Area&#x27;, &#x27;Garage Yr Blt&#x27;,\n",
       "       &#x27;Fireplace Qu_Unknown&#x27;, &#x27;Fireplaces&#x27;, &#x27;...\n",
       "                                                  PolynomialFeatures(),\n",
       "                                                  Index([&#x27;Overall Qual&#x27;, &#x27;Gr Liv Area&#x27;, &#x27;Garage Cars&#x27;, &#x27;Garage Area&#x27;,\n",
       "       &#x27;Total Bsmt SF&#x27;, &#x27;1st Flr SF&#x27;, &#x27;Exter Qual_TA&#x27;, &#x27;Year Built&#x27;,\n",
       "       &#x27;Year Remod/Add&#x27;, &#x27;Full Bath&#x27;, &#x27;Kitchen Qual_TA&#x27;, &#x27;Foundation_PConc&#x27;,\n",
       "       &#x27;TotRms AbvGrd&#x27;, &#x27;Mas Vnr Area&#x27;, &#x27;Garage Yr Blt&#x27;,\n",
       "       &#x27;Fireplace Qu_Unknown&#x27;, &#x27;Fireplaces&#x27;, &#x27;BsmtFin Type 1_GLQ&#x27;,\n",
       "       &#x27;Bsmt Qual_TA&#x27;, &#x27;Exter Qual_Gd&#x27;],\n",
       "      dtype=&#x27;object&#x27;))])),\n",
       "                (&#x27;lasso&#x27;, Lasso(alpha=0.1))])</pre></div></div></div><div class=\"sk-serial\"><div class=\"sk-item sk-dashed-wrapped\"><div class=\"sk-label-container\"><div class=\"sk-label sk-toggleable\"><input class=\"sk-toggleable__control sk-hidden--visually\" id=\"sk-estimator-id-8\" type=\"checkbox\" ><label for=\"sk-estimator-id-8\" class=\"sk-toggleable__label sk-toggleable__label-arrow\">transformer: ColumnTransformer</label><div class=\"sk-toggleable__content\"><pre>ColumnTransformer(transformers=[(&#x27;standardscaler&#x27;, StandardScaler(),\n",
       "                                 Index([&#x27;Overall Qual&#x27;, &#x27;Gr Liv Area&#x27;, &#x27;Garage Cars&#x27;, &#x27;Garage Area&#x27;,\n",
       "       &#x27;Total Bsmt SF&#x27;, &#x27;1st Flr SF&#x27;, &#x27;Exter Qual_TA&#x27;, &#x27;Year Built&#x27;,\n",
       "       &#x27;Year Remod/Add&#x27;, &#x27;Full Bath&#x27;, &#x27;Kitchen Qual_TA&#x27;, &#x27;Foundation_PConc&#x27;,\n",
       "       &#x27;TotRms AbvGrd&#x27;, &#x27;Mas Vnr Area&#x27;, &#x27;Garage Yr Blt&#x27;,\n",
       "       &#x27;Fireplace Qu_Unknown&#x27;, &#x27;Fireplaces&#x27;, &#x27;BsmtFin Type 1_GLQ&#x27;,\n",
       "       &#x27;Bsmt Qual_TA&#x27;...\n",
       "                                (&#x27;polynomialfeatures&#x27;, PolynomialFeatures(),\n",
       "                                 Index([&#x27;Overall Qual&#x27;, &#x27;Gr Liv Area&#x27;, &#x27;Garage Cars&#x27;, &#x27;Garage Area&#x27;,\n",
       "       &#x27;Total Bsmt SF&#x27;, &#x27;1st Flr SF&#x27;, &#x27;Exter Qual_TA&#x27;, &#x27;Year Built&#x27;,\n",
       "       &#x27;Year Remod/Add&#x27;, &#x27;Full Bath&#x27;, &#x27;Kitchen Qual_TA&#x27;, &#x27;Foundation_PConc&#x27;,\n",
       "       &#x27;TotRms AbvGrd&#x27;, &#x27;Mas Vnr Area&#x27;, &#x27;Garage Yr Blt&#x27;,\n",
       "       &#x27;Fireplace Qu_Unknown&#x27;, &#x27;Fireplaces&#x27;, &#x27;BsmtFin Type 1_GLQ&#x27;,\n",
       "       &#x27;Bsmt Qual_TA&#x27;, &#x27;Exter Qual_Gd&#x27;],\n",
       "      dtype=&#x27;object&#x27;))])</pre></div></div></div><div class=\"sk-parallel\"><div class=\"sk-parallel-item\"><div class=\"sk-item\"><div class=\"sk-label-container\"><div class=\"sk-label sk-toggleable\"><input class=\"sk-toggleable__control sk-hidden--visually\" id=\"sk-estimator-id-9\" type=\"checkbox\" ><label for=\"sk-estimator-id-9\" class=\"sk-toggleable__label sk-toggleable__label-arrow\">standardscaler</label><div class=\"sk-toggleable__content\"><pre>Index([&#x27;Overall Qual&#x27;, &#x27;Gr Liv Area&#x27;, &#x27;Garage Cars&#x27;, &#x27;Garage Area&#x27;,\n",
       "       &#x27;Total Bsmt SF&#x27;, &#x27;1st Flr SF&#x27;, &#x27;Exter Qual_TA&#x27;, &#x27;Year Built&#x27;,\n",
       "       &#x27;Year Remod/Add&#x27;, &#x27;Full Bath&#x27;, &#x27;Kitchen Qual_TA&#x27;, &#x27;Foundation_PConc&#x27;,\n",
       "       &#x27;TotRms AbvGrd&#x27;, &#x27;Mas Vnr Area&#x27;, &#x27;Garage Yr Blt&#x27;,\n",
       "       &#x27;Fireplace Qu_Unknown&#x27;, &#x27;Fireplaces&#x27;, &#x27;BsmtFin Type 1_GLQ&#x27;,\n",
       "       &#x27;Bsmt Qual_TA&#x27;, &#x27;Exter Qual_Gd&#x27;],\n",
       "      dtype=&#x27;object&#x27;)</pre></div></div></div><div class=\"sk-serial\"><div class=\"sk-item\"><div class=\"sk-estimator sk-toggleable\"><input class=\"sk-toggleable__control sk-hidden--visually\" id=\"sk-estimator-id-10\" type=\"checkbox\" ><label for=\"sk-estimator-id-10\" class=\"sk-toggleable__label sk-toggleable__label-arrow\">StandardScaler</label><div class=\"sk-toggleable__content\"><pre>StandardScaler()</pre></div></div></div></div></div></div><div class=\"sk-parallel-item\"><div class=\"sk-item\"><div class=\"sk-label-container\"><div class=\"sk-label sk-toggleable\"><input class=\"sk-toggleable__control sk-hidden--visually\" id=\"sk-estimator-id-11\" type=\"checkbox\" ><label for=\"sk-estimator-id-11\" class=\"sk-toggleable__label sk-toggleable__label-arrow\">polynomialfeatures</label><div class=\"sk-toggleable__content\"><pre>Index([&#x27;Overall Qual&#x27;, &#x27;Gr Liv Area&#x27;, &#x27;Garage Cars&#x27;, &#x27;Garage Area&#x27;,\n",
       "       &#x27;Total Bsmt SF&#x27;, &#x27;1st Flr SF&#x27;, &#x27;Exter Qual_TA&#x27;, &#x27;Year Built&#x27;,\n",
       "       &#x27;Year Remod/Add&#x27;, &#x27;Full Bath&#x27;, &#x27;Kitchen Qual_TA&#x27;, &#x27;Foundation_PConc&#x27;,\n",
       "       &#x27;TotRms AbvGrd&#x27;, &#x27;Mas Vnr Area&#x27;, &#x27;Garage Yr Blt&#x27;,\n",
       "       &#x27;Fireplace Qu_Unknown&#x27;, &#x27;Fireplaces&#x27;, &#x27;BsmtFin Type 1_GLQ&#x27;,\n",
       "       &#x27;Bsmt Qual_TA&#x27;, &#x27;Exter Qual_Gd&#x27;],\n",
       "      dtype=&#x27;object&#x27;)</pre></div></div></div><div class=\"sk-serial\"><div class=\"sk-item\"><div class=\"sk-estimator sk-toggleable\"><input class=\"sk-toggleable__control sk-hidden--visually\" id=\"sk-estimator-id-12\" type=\"checkbox\" ><label for=\"sk-estimator-id-12\" class=\"sk-toggleable__label sk-toggleable__label-arrow\">PolynomialFeatures</label><div class=\"sk-toggleable__content\"><pre>PolynomialFeatures()</pre></div></div></div></div></div></div></div></div><div class=\"sk-item\"><div class=\"sk-estimator sk-toggleable\"><input class=\"sk-toggleable__control sk-hidden--visually\" id=\"sk-estimator-id-13\" type=\"checkbox\" ><label for=\"sk-estimator-id-13\" class=\"sk-toggleable__label sk-toggleable__label-arrow\">Lasso</label><div class=\"sk-toggleable__content\"><pre>Lasso(alpha=0.1)</pre></div></div></div></div></div></div></div>"
      ],
      "text/plain": [
       "Pipeline(steps=[('transformer',\n",
       "                 ColumnTransformer(transformers=[('standardscaler',\n",
       "                                                  StandardScaler(),\n",
       "                                                  Index(['Overall Qual', 'Gr Liv Area', 'Garage Cars', 'Garage Area',\n",
       "       'Total Bsmt SF', '1st Flr SF', 'Exter Qual_TA', 'Year Built',\n",
       "       'Year Remod/Add', 'Full Bath', 'Kitchen Qual_TA', 'Foundation_PConc',\n",
       "       'TotRms AbvGrd', 'Mas Vnr Area', 'Garage Yr Blt',\n",
       "       'Fireplace Qu_Unknown', 'Fireplaces', '...\n",
       "                                                  PolynomialFeatures(),\n",
       "                                                  Index(['Overall Qual', 'Gr Liv Area', 'Garage Cars', 'Garage Area',\n",
       "       'Total Bsmt SF', '1st Flr SF', 'Exter Qual_TA', 'Year Built',\n",
       "       'Year Remod/Add', 'Full Bath', 'Kitchen Qual_TA', 'Foundation_PConc',\n",
       "       'TotRms AbvGrd', 'Mas Vnr Area', 'Garage Yr Blt',\n",
       "       'Fireplace Qu_Unknown', 'Fireplaces', 'BsmtFin Type 1_GLQ',\n",
       "       'Bsmt Qual_TA', 'Exter Qual_Gd'],\n",
       "      dtype='object'))])),\n",
       "                ('lasso', Lasso(alpha=0.1))])"
      ]
     },
     "execution_count": 18,
     "metadata": {},
     "output_type": "execute_result"
    }
   ],
   "source": [
    "# create pipeline with Lasso regression\n",
    "lasso_pipe = Pipeline([('transformer', transformer), ('lasso', Lasso(alpha=0.1))])\n",
    "lasso_pipe"
   ]
  },
  {
   "cell_type": "code",
   "execution_count": 19,
   "id": "69662148-51ea-46a6-a67d-1a95f26dc3af",
   "metadata": {},
   "outputs": [
    {
     "data": {
      "text/html": [
       "<style>#sk-container-id-4 {color: black;background-color: white;}#sk-container-id-4 pre{padding: 0;}#sk-container-id-4 div.sk-toggleable {background-color: white;}#sk-container-id-4 label.sk-toggleable__label {cursor: pointer;display: block;width: 100%;margin-bottom: 0;padding: 0.3em;box-sizing: border-box;text-align: center;}#sk-container-id-4 label.sk-toggleable__label-arrow:before {content: \"▸\";float: left;margin-right: 0.25em;color: #696969;}#sk-container-id-4 label.sk-toggleable__label-arrow:hover:before {color: black;}#sk-container-id-4 div.sk-estimator:hover label.sk-toggleable__label-arrow:before {color: black;}#sk-container-id-4 div.sk-toggleable__content {max-height: 0;max-width: 0;overflow: hidden;text-align: left;background-color: #f0f8ff;}#sk-container-id-4 div.sk-toggleable__content pre {margin: 0.2em;color: black;border-radius: 0.25em;background-color: #f0f8ff;}#sk-container-id-4 input.sk-toggleable__control:checked~div.sk-toggleable__content {max-height: 200px;max-width: 100%;overflow: auto;}#sk-container-id-4 input.sk-toggleable__control:checked~label.sk-toggleable__label-arrow:before {content: \"▾\";}#sk-container-id-4 div.sk-estimator input.sk-toggleable__control:checked~label.sk-toggleable__label {background-color: #d4ebff;}#sk-container-id-4 div.sk-label input.sk-toggleable__control:checked~label.sk-toggleable__label {background-color: #d4ebff;}#sk-container-id-4 input.sk-hidden--visually {border: 0;clip: rect(1px 1px 1px 1px);clip: rect(1px, 1px, 1px, 1px);height: 1px;margin: -1px;overflow: hidden;padding: 0;position: absolute;width: 1px;}#sk-container-id-4 div.sk-estimator {font-family: monospace;background-color: #f0f8ff;border: 1px dotted black;border-radius: 0.25em;box-sizing: border-box;margin-bottom: 0.5em;}#sk-container-id-4 div.sk-estimator:hover {background-color: #d4ebff;}#sk-container-id-4 div.sk-parallel-item::after {content: \"\";width: 100%;border-bottom: 1px solid gray;flex-grow: 1;}#sk-container-id-4 div.sk-label:hover label.sk-toggleable__label {background-color: #d4ebff;}#sk-container-id-4 div.sk-serial::before {content: \"\";position: absolute;border-left: 1px solid gray;box-sizing: border-box;top: 0;bottom: 0;left: 50%;z-index: 0;}#sk-container-id-4 div.sk-serial {display: flex;flex-direction: column;align-items: center;background-color: white;padding-right: 0.2em;padding-left: 0.2em;position: relative;}#sk-container-id-4 div.sk-item {position: relative;z-index: 1;}#sk-container-id-4 div.sk-parallel {display: flex;align-items: stretch;justify-content: center;background-color: white;position: relative;}#sk-container-id-4 div.sk-item::before, #sk-container-id-4 div.sk-parallel-item::before {content: \"\";position: absolute;border-left: 1px solid gray;box-sizing: border-box;top: 0;bottom: 0;left: 50%;z-index: -1;}#sk-container-id-4 div.sk-parallel-item {display: flex;flex-direction: column;z-index: 1;position: relative;background-color: white;}#sk-container-id-4 div.sk-parallel-item:first-child::after {align-self: flex-end;width: 50%;}#sk-container-id-4 div.sk-parallel-item:last-child::after {align-self: flex-start;width: 50%;}#sk-container-id-4 div.sk-parallel-item:only-child::after {width: 0;}#sk-container-id-4 div.sk-dashed-wrapped {border: 1px dashed gray;margin: 0 0.4em 0.5em 0.4em;box-sizing: border-box;padding-bottom: 0.4em;background-color: white;}#sk-container-id-4 div.sk-label label {font-family: monospace;font-weight: bold;display: inline-block;line-height: 1.2em;}#sk-container-id-4 div.sk-label-container {text-align: center;}#sk-container-id-4 div.sk-container {/* jupyter's `normalize.less` sets `[hidden] { display: none; }` but bootstrap.min.css set `[hidden] { display: none !important; }` so we also need the `!important` here to be able to override the default hidden behavior on the sphinx rendered scikit-learn.org. See: https://github.com/scikit-learn/scikit-learn/issues/21755 */display: inline-block !important;position: relative;}#sk-container-id-4 div.sk-text-repr-fallback {display: none;}</style><div id=\"sk-container-id-4\" class=\"sk-top-container\"><div class=\"sk-text-repr-fallback\"><pre>Pipeline(steps=[(&#x27;transformer&#x27;,\n",
       "                 ColumnTransformer(transformers=[(&#x27;standardscaler&#x27;,\n",
       "                                                  StandardScaler(),\n",
       "                                                  Index([&#x27;Overall Qual&#x27;, &#x27;Gr Liv Area&#x27;, &#x27;Garage Cars&#x27;, &#x27;Garage Area&#x27;,\n",
       "       &#x27;Total Bsmt SF&#x27;, &#x27;1st Flr SF&#x27;, &#x27;Exter Qual_TA&#x27;, &#x27;Year Built&#x27;,\n",
       "       &#x27;Year Remod/Add&#x27;, &#x27;Full Bath&#x27;, &#x27;Kitchen Qual_TA&#x27;, &#x27;Foundation_PConc&#x27;,\n",
       "       &#x27;TotRms AbvGrd&#x27;, &#x27;Mas Vnr Area&#x27;, &#x27;Garage Yr Blt&#x27;,\n",
       "       &#x27;Fireplace Qu_Unknown&#x27;, &#x27;Fireplaces&#x27;, &#x27;...\n",
       "                                                  PolynomialFeatures(),\n",
       "                                                  Index([&#x27;Overall Qual&#x27;, &#x27;Gr Liv Area&#x27;, &#x27;Garage Cars&#x27;, &#x27;Garage Area&#x27;,\n",
       "       &#x27;Total Bsmt SF&#x27;, &#x27;1st Flr SF&#x27;, &#x27;Exter Qual_TA&#x27;, &#x27;Year Built&#x27;,\n",
       "       &#x27;Year Remod/Add&#x27;, &#x27;Full Bath&#x27;, &#x27;Kitchen Qual_TA&#x27;, &#x27;Foundation_PConc&#x27;,\n",
       "       &#x27;TotRms AbvGrd&#x27;, &#x27;Mas Vnr Area&#x27;, &#x27;Garage Yr Blt&#x27;,\n",
       "       &#x27;Fireplace Qu_Unknown&#x27;, &#x27;Fireplaces&#x27;, &#x27;BsmtFin Type 1_GLQ&#x27;,\n",
       "       &#x27;Bsmt Qual_TA&#x27;, &#x27;Exter Qual_Gd&#x27;],\n",
       "      dtype=&#x27;object&#x27;))])),\n",
       "                (&#x27;lasso&#x27;, Lasso(alpha=0.1))])</pre><b>In a Jupyter environment, please rerun this cell to show the HTML representation or trust the notebook. <br />On GitHub, the HTML representation is unable to render, please try loading this page with nbviewer.org.</b></div><div class=\"sk-container\" hidden><div class=\"sk-item sk-dashed-wrapped\"><div class=\"sk-label-container\"><div class=\"sk-label sk-toggleable\"><input class=\"sk-toggleable__control sk-hidden--visually\" id=\"sk-estimator-id-14\" type=\"checkbox\" ><label for=\"sk-estimator-id-14\" class=\"sk-toggleable__label sk-toggleable__label-arrow\">Pipeline</label><div class=\"sk-toggleable__content\"><pre>Pipeline(steps=[(&#x27;transformer&#x27;,\n",
       "                 ColumnTransformer(transformers=[(&#x27;standardscaler&#x27;,\n",
       "                                                  StandardScaler(),\n",
       "                                                  Index([&#x27;Overall Qual&#x27;, &#x27;Gr Liv Area&#x27;, &#x27;Garage Cars&#x27;, &#x27;Garage Area&#x27;,\n",
       "       &#x27;Total Bsmt SF&#x27;, &#x27;1st Flr SF&#x27;, &#x27;Exter Qual_TA&#x27;, &#x27;Year Built&#x27;,\n",
       "       &#x27;Year Remod/Add&#x27;, &#x27;Full Bath&#x27;, &#x27;Kitchen Qual_TA&#x27;, &#x27;Foundation_PConc&#x27;,\n",
       "       &#x27;TotRms AbvGrd&#x27;, &#x27;Mas Vnr Area&#x27;, &#x27;Garage Yr Blt&#x27;,\n",
       "       &#x27;Fireplace Qu_Unknown&#x27;, &#x27;Fireplaces&#x27;, &#x27;...\n",
       "                                                  PolynomialFeatures(),\n",
       "                                                  Index([&#x27;Overall Qual&#x27;, &#x27;Gr Liv Area&#x27;, &#x27;Garage Cars&#x27;, &#x27;Garage Area&#x27;,\n",
       "       &#x27;Total Bsmt SF&#x27;, &#x27;1st Flr SF&#x27;, &#x27;Exter Qual_TA&#x27;, &#x27;Year Built&#x27;,\n",
       "       &#x27;Year Remod/Add&#x27;, &#x27;Full Bath&#x27;, &#x27;Kitchen Qual_TA&#x27;, &#x27;Foundation_PConc&#x27;,\n",
       "       &#x27;TotRms AbvGrd&#x27;, &#x27;Mas Vnr Area&#x27;, &#x27;Garage Yr Blt&#x27;,\n",
       "       &#x27;Fireplace Qu_Unknown&#x27;, &#x27;Fireplaces&#x27;, &#x27;BsmtFin Type 1_GLQ&#x27;,\n",
       "       &#x27;Bsmt Qual_TA&#x27;, &#x27;Exter Qual_Gd&#x27;],\n",
       "      dtype=&#x27;object&#x27;))])),\n",
       "                (&#x27;lasso&#x27;, Lasso(alpha=0.1))])</pre></div></div></div><div class=\"sk-serial\"><div class=\"sk-item sk-dashed-wrapped\"><div class=\"sk-label-container\"><div class=\"sk-label sk-toggleable\"><input class=\"sk-toggleable__control sk-hidden--visually\" id=\"sk-estimator-id-15\" type=\"checkbox\" ><label for=\"sk-estimator-id-15\" class=\"sk-toggleable__label sk-toggleable__label-arrow\">transformer: ColumnTransformer</label><div class=\"sk-toggleable__content\"><pre>ColumnTransformer(transformers=[(&#x27;standardscaler&#x27;, StandardScaler(),\n",
       "                                 Index([&#x27;Overall Qual&#x27;, &#x27;Gr Liv Area&#x27;, &#x27;Garage Cars&#x27;, &#x27;Garage Area&#x27;,\n",
       "       &#x27;Total Bsmt SF&#x27;, &#x27;1st Flr SF&#x27;, &#x27;Exter Qual_TA&#x27;, &#x27;Year Built&#x27;,\n",
       "       &#x27;Year Remod/Add&#x27;, &#x27;Full Bath&#x27;, &#x27;Kitchen Qual_TA&#x27;, &#x27;Foundation_PConc&#x27;,\n",
       "       &#x27;TotRms AbvGrd&#x27;, &#x27;Mas Vnr Area&#x27;, &#x27;Garage Yr Blt&#x27;,\n",
       "       &#x27;Fireplace Qu_Unknown&#x27;, &#x27;Fireplaces&#x27;, &#x27;BsmtFin Type 1_GLQ&#x27;,\n",
       "       &#x27;Bsmt Qual_TA&#x27;...\n",
       "                                (&#x27;polynomialfeatures&#x27;, PolynomialFeatures(),\n",
       "                                 Index([&#x27;Overall Qual&#x27;, &#x27;Gr Liv Area&#x27;, &#x27;Garage Cars&#x27;, &#x27;Garage Area&#x27;,\n",
       "       &#x27;Total Bsmt SF&#x27;, &#x27;1st Flr SF&#x27;, &#x27;Exter Qual_TA&#x27;, &#x27;Year Built&#x27;,\n",
       "       &#x27;Year Remod/Add&#x27;, &#x27;Full Bath&#x27;, &#x27;Kitchen Qual_TA&#x27;, &#x27;Foundation_PConc&#x27;,\n",
       "       &#x27;TotRms AbvGrd&#x27;, &#x27;Mas Vnr Area&#x27;, &#x27;Garage Yr Blt&#x27;,\n",
       "       &#x27;Fireplace Qu_Unknown&#x27;, &#x27;Fireplaces&#x27;, &#x27;BsmtFin Type 1_GLQ&#x27;,\n",
       "       &#x27;Bsmt Qual_TA&#x27;, &#x27;Exter Qual_Gd&#x27;],\n",
       "      dtype=&#x27;object&#x27;))])</pre></div></div></div><div class=\"sk-parallel\"><div class=\"sk-parallel-item\"><div class=\"sk-item\"><div class=\"sk-label-container\"><div class=\"sk-label sk-toggleable\"><input class=\"sk-toggleable__control sk-hidden--visually\" id=\"sk-estimator-id-16\" type=\"checkbox\" ><label for=\"sk-estimator-id-16\" class=\"sk-toggleable__label sk-toggleable__label-arrow\">standardscaler</label><div class=\"sk-toggleable__content\"><pre>Index([&#x27;Overall Qual&#x27;, &#x27;Gr Liv Area&#x27;, &#x27;Garage Cars&#x27;, &#x27;Garage Area&#x27;,\n",
       "       &#x27;Total Bsmt SF&#x27;, &#x27;1st Flr SF&#x27;, &#x27;Exter Qual_TA&#x27;, &#x27;Year Built&#x27;,\n",
       "       &#x27;Year Remod/Add&#x27;, &#x27;Full Bath&#x27;, &#x27;Kitchen Qual_TA&#x27;, &#x27;Foundation_PConc&#x27;,\n",
       "       &#x27;TotRms AbvGrd&#x27;, &#x27;Mas Vnr Area&#x27;, &#x27;Garage Yr Blt&#x27;,\n",
       "       &#x27;Fireplace Qu_Unknown&#x27;, &#x27;Fireplaces&#x27;, &#x27;BsmtFin Type 1_GLQ&#x27;,\n",
       "       &#x27;Bsmt Qual_TA&#x27;, &#x27;Exter Qual_Gd&#x27;],\n",
       "      dtype=&#x27;object&#x27;)</pre></div></div></div><div class=\"sk-serial\"><div class=\"sk-item\"><div class=\"sk-estimator sk-toggleable\"><input class=\"sk-toggleable__control sk-hidden--visually\" id=\"sk-estimator-id-17\" type=\"checkbox\" ><label for=\"sk-estimator-id-17\" class=\"sk-toggleable__label sk-toggleable__label-arrow\">StandardScaler</label><div class=\"sk-toggleable__content\"><pre>StandardScaler()</pre></div></div></div></div></div></div><div class=\"sk-parallel-item\"><div class=\"sk-item\"><div class=\"sk-label-container\"><div class=\"sk-label sk-toggleable\"><input class=\"sk-toggleable__control sk-hidden--visually\" id=\"sk-estimator-id-18\" type=\"checkbox\" ><label for=\"sk-estimator-id-18\" class=\"sk-toggleable__label sk-toggleable__label-arrow\">polynomialfeatures</label><div class=\"sk-toggleable__content\"><pre>Index([&#x27;Overall Qual&#x27;, &#x27;Gr Liv Area&#x27;, &#x27;Garage Cars&#x27;, &#x27;Garage Area&#x27;,\n",
       "       &#x27;Total Bsmt SF&#x27;, &#x27;1st Flr SF&#x27;, &#x27;Exter Qual_TA&#x27;, &#x27;Year Built&#x27;,\n",
       "       &#x27;Year Remod/Add&#x27;, &#x27;Full Bath&#x27;, &#x27;Kitchen Qual_TA&#x27;, &#x27;Foundation_PConc&#x27;,\n",
       "       &#x27;TotRms AbvGrd&#x27;, &#x27;Mas Vnr Area&#x27;, &#x27;Garage Yr Blt&#x27;,\n",
       "       &#x27;Fireplace Qu_Unknown&#x27;, &#x27;Fireplaces&#x27;, &#x27;BsmtFin Type 1_GLQ&#x27;,\n",
       "       &#x27;Bsmt Qual_TA&#x27;, &#x27;Exter Qual_Gd&#x27;],\n",
       "      dtype=&#x27;object&#x27;)</pre></div></div></div><div class=\"sk-serial\"><div class=\"sk-item\"><div class=\"sk-estimator sk-toggleable\"><input class=\"sk-toggleable__control sk-hidden--visually\" id=\"sk-estimator-id-19\" type=\"checkbox\" ><label for=\"sk-estimator-id-19\" class=\"sk-toggleable__label sk-toggleable__label-arrow\">PolynomialFeatures</label><div class=\"sk-toggleable__content\"><pre>PolynomialFeatures()</pre></div></div></div></div></div></div></div></div><div class=\"sk-item\"><div class=\"sk-estimator sk-toggleable\"><input class=\"sk-toggleable__control sk-hidden--visually\" id=\"sk-estimator-id-20\" type=\"checkbox\" ><label for=\"sk-estimator-id-20\" class=\"sk-toggleable__label sk-toggleable__label-arrow\">Lasso</label><div class=\"sk-toggleable__content\"><pre>Lasso(alpha=0.1)</pre></div></div></div></div></div></div></div>"
      ],
      "text/plain": [
       "Pipeline(steps=[('transformer',\n",
       "                 ColumnTransformer(transformers=[('standardscaler',\n",
       "                                                  StandardScaler(),\n",
       "                                                  Index(['Overall Qual', 'Gr Liv Area', 'Garage Cars', 'Garage Area',\n",
       "       'Total Bsmt SF', '1st Flr SF', 'Exter Qual_TA', 'Year Built',\n",
       "       'Year Remod/Add', 'Full Bath', 'Kitchen Qual_TA', 'Foundation_PConc',\n",
       "       'TotRms AbvGrd', 'Mas Vnr Area', 'Garage Yr Blt',\n",
       "       'Fireplace Qu_Unknown', 'Fireplaces', '...\n",
       "                                                  PolynomialFeatures(),\n",
       "                                                  Index(['Overall Qual', 'Gr Liv Area', 'Garage Cars', 'Garage Area',\n",
       "       'Total Bsmt SF', '1st Flr SF', 'Exter Qual_TA', 'Year Built',\n",
       "       'Year Remod/Add', 'Full Bath', 'Kitchen Qual_TA', 'Foundation_PConc',\n",
       "       'TotRms AbvGrd', 'Mas Vnr Area', 'Garage Yr Blt',\n",
       "       'Fireplace Qu_Unknown', 'Fireplaces', 'BsmtFin Type 1_GLQ',\n",
       "       'Bsmt Qual_TA', 'Exter Qual_Gd'],\n",
       "      dtype='object'))])),\n",
       "                ('lasso', Lasso(alpha=0.1))])"
      ]
     },
     "execution_count": 19,
     "metadata": {},
     "output_type": "execute_result"
    }
   ],
   "source": [
    "# fit Lasso regression\n",
    "lasso_pipe.fit(X_train, y_train)"
   ]
  },
  {
   "cell_type": "code",
   "execution_count": 20,
   "id": "0d359d27-e9a8-45a1-aa5e-eb2eba8647e3",
   "metadata": {},
   "outputs": [
    {
     "data": {
      "text/plain": [
       "0.9148974189677032"
      ]
     },
     "execution_count": 20,
     "metadata": {},
     "output_type": "execute_result"
    }
   ],
   "source": [
    "# display Lasso train R-Squared score\n",
    "lasso_pipe.score(X_train, y_train)"
   ]
  },
  {
   "cell_type": "code",
   "execution_count": 21,
   "id": "10ea4eb2-915d-4ab7-ae50-ea3e7bdc6562",
   "metadata": {},
   "outputs": [
    {
     "data": {
      "text/plain": [
       "0.9072268668208475"
      ]
     },
     "execution_count": 21,
     "metadata": {},
     "output_type": "execute_result"
    }
   ],
   "source": [
    "# display Lasso test R-Squared score\n",
    "lasso_pipe.score(X_test, y_test)"
   ]
  },
  {
   "cell_type": "code",
   "execution_count": 22,
   "id": "685a29ac-932a-48d9-8980-7d9841dad006",
   "metadata": {},
   "outputs": [],
   "source": [
    "# predict Lasso regression\n",
    "lasso_train_preds = lasso_pipe.predict(X_train)\n",
    "lasso_test_preds = lasso_pipe.predict(X_test)"
   ]
  },
  {
   "cell_type": "code",
   "execution_count": 23,
   "id": "a2697257-b214-4327-a24e-48e91f84bcab",
   "metadata": {},
   "outputs": [
    {
     "data": {
      "text/plain": [
       "23426.27002351576"
      ]
     },
     "execution_count": 23,
     "metadata": {},
     "output_type": "execute_result"
    }
   ],
   "source": [
    "# display Lasso train rmse\n",
    "mean_squared_error(y_train, lasso_train_preds, squared=False)"
   ]
  },
  {
   "cell_type": "code",
   "execution_count": 24,
   "id": "bb83c257-f2ee-47ba-8c94-e6bf0c37c962",
   "metadata": {},
   "outputs": [
    {
     "data": {
      "text/plain": [
       "23182.34453645812"
      ]
     },
     "execution_count": 24,
     "metadata": {},
     "output_type": "execute_result"
    }
   ],
   "source": [
    "# display Lasso test rmse\n",
    "mean_squared_error(y_test, lasso_test_preds, squared=False)"
   ]
  },
  {
   "cell_type": "code",
   "execution_count": 25,
   "id": "779dca87-1bde-43ce-802c-62418d88e957",
   "metadata": {},
   "outputs": [
    {
     "data": {
      "text/html": [
       "<style>#sk-container-id-5 {color: black;background-color: white;}#sk-container-id-5 pre{padding: 0;}#sk-container-id-5 div.sk-toggleable {background-color: white;}#sk-container-id-5 label.sk-toggleable__label {cursor: pointer;display: block;width: 100%;margin-bottom: 0;padding: 0.3em;box-sizing: border-box;text-align: center;}#sk-container-id-5 label.sk-toggleable__label-arrow:before {content: \"▸\";float: left;margin-right: 0.25em;color: #696969;}#sk-container-id-5 label.sk-toggleable__label-arrow:hover:before {color: black;}#sk-container-id-5 div.sk-estimator:hover label.sk-toggleable__label-arrow:before {color: black;}#sk-container-id-5 div.sk-toggleable__content {max-height: 0;max-width: 0;overflow: hidden;text-align: left;background-color: #f0f8ff;}#sk-container-id-5 div.sk-toggleable__content pre {margin: 0.2em;color: black;border-radius: 0.25em;background-color: #f0f8ff;}#sk-container-id-5 input.sk-toggleable__control:checked~div.sk-toggleable__content {max-height: 200px;max-width: 100%;overflow: auto;}#sk-container-id-5 input.sk-toggleable__control:checked~label.sk-toggleable__label-arrow:before {content: \"▾\";}#sk-container-id-5 div.sk-estimator input.sk-toggleable__control:checked~label.sk-toggleable__label {background-color: #d4ebff;}#sk-container-id-5 div.sk-label input.sk-toggleable__control:checked~label.sk-toggleable__label {background-color: #d4ebff;}#sk-container-id-5 input.sk-hidden--visually {border: 0;clip: rect(1px 1px 1px 1px);clip: rect(1px, 1px, 1px, 1px);height: 1px;margin: -1px;overflow: hidden;padding: 0;position: absolute;width: 1px;}#sk-container-id-5 div.sk-estimator {font-family: monospace;background-color: #f0f8ff;border: 1px dotted black;border-radius: 0.25em;box-sizing: border-box;margin-bottom: 0.5em;}#sk-container-id-5 div.sk-estimator:hover {background-color: #d4ebff;}#sk-container-id-5 div.sk-parallel-item::after {content: \"\";width: 100%;border-bottom: 1px solid gray;flex-grow: 1;}#sk-container-id-5 div.sk-label:hover label.sk-toggleable__label {background-color: #d4ebff;}#sk-container-id-5 div.sk-serial::before {content: \"\";position: absolute;border-left: 1px solid gray;box-sizing: border-box;top: 0;bottom: 0;left: 50%;z-index: 0;}#sk-container-id-5 div.sk-serial {display: flex;flex-direction: column;align-items: center;background-color: white;padding-right: 0.2em;padding-left: 0.2em;position: relative;}#sk-container-id-5 div.sk-item {position: relative;z-index: 1;}#sk-container-id-5 div.sk-parallel {display: flex;align-items: stretch;justify-content: center;background-color: white;position: relative;}#sk-container-id-5 div.sk-item::before, #sk-container-id-5 div.sk-parallel-item::before {content: \"\";position: absolute;border-left: 1px solid gray;box-sizing: border-box;top: 0;bottom: 0;left: 50%;z-index: -1;}#sk-container-id-5 div.sk-parallel-item {display: flex;flex-direction: column;z-index: 1;position: relative;background-color: white;}#sk-container-id-5 div.sk-parallel-item:first-child::after {align-self: flex-end;width: 50%;}#sk-container-id-5 div.sk-parallel-item:last-child::after {align-self: flex-start;width: 50%;}#sk-container-id-5 div.sk-parallel-item:only-child::after {width: 0;}#sk-container-id-5 div.sk-dashed-wrapped {border: 1px dashed gray;margin: 0 0.4em 0.5em 0.4em;box-sizing: border-box;padding-bottom: 0.4em;background-color: white;}#sk-container-id-5 div.sk-label label {font-family: monospace;font-weight: bold;display: inline-block;line-height: 1.2em;}#sk-container-id-5 div.sk-label-container {text-align: center;}#sk-container-id-5 div.sk-container {/* jupyter's `normalize.less` sets `[hidden] { display: none; }` but bootstrap.min.css set `[hidden] { display: none !important; }` so we also need the `!important` here to be able to override the default hidden behavior on the sphinx rendered scikit-learn.org. See: https://github.com/scikit-learn/scikit-learn/issues/21755 */display: inline-block !important;position: relative;}#sk-container-id-5 div.sk-text-repr-fallback {display: none;}</style><div id=\"sk-container-id-5\" class=\"sk-top-container\"><div class=\"sk-text-repr-fallback\"><pre>Pipeline(steps=[(&#x27;transformer&#x27;,\n",
       "                 ColumnTransformer(transformers=[(&#x27;standardscaler&#x27;,\n",
       "                                                  StandardScaler(),\n",
       "                                                  Index([&#x27;Overall Qual&#x27;, &#x27;Gr Liv Area&#x27;, &#x27;Garage Cars&#x27;, &#x27;Garage Area&#x27;,\n",
       "       &#x27;Total Bsmt SF&#x27;, &#x27;1st Flr SF&#x27;, &#x27;Exter Qual_TA&#x27;, &#x27;Year Built&#x27;,\n",
       "       &#x27;Year Remod/Add&#x27;, &#x27;Full Bath&#x27;, &#x27;Kitchen Qual_TA&#x27;, &#x27;Foundation_PConc&#x27;,\n",
       "       &#x27;TotRms AbvGrd&#x27;, &#x27;Mas Vnr Area&#x27;, &#x27;Garage Yr Blt&#x27;,\n",
       "       &#x27;Fireplace Qu_Unknown&#x27;, &#x27;Fireplaces&#x27;, &#x27;...\n",
       "                                                  PolynomialFeatures(),\n",
       "                                                  Index([&#x27;Overall Qual&#x27;, &#x27;Gr Liv Area&#x27;, &#x27;Garage Cars&#x27;, &#x27;Garage Area&#x27;,\n",
       "       &#x27;Total Bsmt SF&#x27;, &#x27;1st Flr SF&#x27;, &#x27;Exter Qual_TA&#x27;, &#x27;Year Built&#x27;,\n",
       "       &#x27;Year Remod/Add&#x27;, &#x27;Full Bath&#x27;, &#x27;Kitchen Qual_TA&#x27;, &#x27;Foundation_PConc&#x27;,\n",
       "       &#x27;TotRms AbvGrd&#x27;, &#x27;Mas Vnr Area&#x27;, &#x27;Garage Yr Blt&#x27;,\n",
       "       &#x27;Fireplace Qu_Unknown&#x27;, &#x27;Fireplaces&#x27;, &#x27;BsmtFin Type 1_GLQ&#x27;,\n",
       "       &#x27;Bsmt Qual_TA&#x27;, &#x27;Exter Qual_Gd&#x27;],\n",
       "      dtype=&#x27;object&#x27;))])),\n",
       "                (&#x27;ridge&#x27;, Ridge(alpha=0.1))])</pre><b>In a Jupyter environment, please rerun this cell to show the HTML representation or trust the notebook. <br />On GitHub, the HTML representation is unable to render, please try loading this page with nbviewer.org.</b></div><div class=\"sk-container\" hidden><div class=\"sk-item sk-dashed-wrapped\"><div class=\"sk-label-container\"><div class=\"sk-label sk-toggleable\"><input class=\"sk-toggleable__control sk-hidden--visually\" id=\"sk-estimator-id-21\" type=\"checkbox\" ><label for=\"sk-estimator-id-21\" class=\"sk-toggleable__label sk-toggleable__label-arrow\">Pipeline</label><div class=\"sk-toggleable__content\"><pre>Pipeline(steps=[(&#x27;transformer&#x27;,\n",
       "                 ColumnTransformer(transformers=[(&#x27;standardscaler&#x27;,\n",
       "                                                  StandardScaler(),\n",
       "                                                  Index([&#x27;Overall Qual&#x27;, &#x27;Gr Liv Area&#x27;, &#x27;Garage Cars&#x27;, &#x27;Garage Area&#x27;,\n",
       "       &#x27;Total Bsmt SF&#x27;, &#x27;1st Flr SF&#x27;, &#x27;Exter Qual_TA&#x27;, &#x27;Year Built&#x27;,\n",
       "       &#x27;Year Remod/Add&#x27;, &#x27;Full Bath&#x27;, &#x27;Kitchen Qual_TA&#x27;, &#x27;Foundation_PConc&#x27;,\n",
       "       &#x27;TotRms AbvGrd&#x27;, &#x27;Mas Vnr Area&#x27;, &#x27;Garage Yr Blt&#x27;,\n",
       "       &#x27;Fireplace Qu_Unknown&#x27;, &#x27;Fireplaces&#x27;, &#x27;...\n",
       "                                                  PolynomialFeatures(),\n",
       "                                                  Index([&#x27;Overall Qual&#x27;, &#x27;Gr Liv Area&#x27;, &#x27;Garage Cars&#x27;, &#x27;Garage Area&#x27;,\n",
       "       &#x27;Total Bsmt SF&#x27;, &#x27;1st Flr SF&#x27;, &#x27;Exter Qual_TA&#x27;, &#x27;Year Built&#x27;,\n",
       "       &#x27;Year Remod/Add&#x27;, &#x27;Full Bath&#x27;, &#x27;Kitchen Qual_TA&#x27;, &#x27;Foundation_PConc&#x27;,\n",
       "       &#x27;TotRms AbvGrd&#x27;, &#x27;Mas Vnr Area&#x27;, &#x27;Garage Yr Blt&#x27;,\n",
       "       &#x27;Fireplace Qu_Unknown&#x27;, &#x27;Fireplaces&#x27;, &#x27;BsmtFin Type 1_GLQ&#x27;,\n",
       "       &#x27;Bsmt Qual_TA&#x27;, &#x27;Exter Qual_Gd&#x27;],\n",
       "      dtype=&#x27;object&#x27;))])),\n",
       "                (&#x27;ridge&#x27;, Ridge(alpha=0.1))])</pre></div></div></div><div class=\"sk-serial\"><div class=\"sk-item sk-dashed-wrapped\"><div class=\"sk-label-container\"><div class=\"sk-label sk-toggleable\"><input class=\"sk-toggleable__control sk-hidden--visually\" id=\"sk-estimator-id-22\" type=\"checkbox\" ><label for=\"sk-estimator-id-22\" class=\"sk-toggleable__label sk-toggleable__label-arrow\">transformer: ColumnTransformer</label><div class=\"sk-toggleable__content\"><pre>ColumnTransformer(transformers=[(&#x27;standardscaler&#x27;, StandardScaler(),\n",
       "                                 Index([&#x27;Overall Qual&#x27;, &#x27;Gr Liv Area&#x27;, &#x27;Garage Cars&#x27;, &#x27;Garage Area&#x27;,\n",
       "       &#x27;Total Bsmt SF&#x27;, &#x27;1st Flr SF&#x27;, &#x27;Exter Qual_TA&#x27;, &#x27;Year Built&#x27;,\n",
       "       &#x27;Year Remod/Add&#x27;, &#x27;Full Bath&#x27;, &#x27;Kitchen Qual_TA&#x27;, &#x27;Foundation_PConc&#x27;,\n",
       "       &#x27;TotRms AbvGrd&#x27;, &#x27;Mas Vnr Area&#x27;, &#x27;Garage Yr Blt&#x27;,\n",
       "       &#x27;Fireplace Qu_Unknown&#x27;, &#x27;Fireplaces&#x27;, &#x27;BsmtFin Type 1_GLQ&#x27;,\n",
       "       &#x27;Bsmt Qual_TA&#x27;...\n",
       "                                (&#x27;polynomialfeatures&#x27;, PolynomialFeatures(),\n",
       "                                 Index([&#x27;Overall Qual&#x27;, &#x27;Gr Liv Area&#x27;, &#x27;Garage Cars&#x27;, &#x27;Garage Area&#x27;,\n",
       "       &#x27;Total Bsmt SF&#x27;, &#x27;1st Flr SF&#x27;, &#x27;Exter Qual_TA&#x27;, &#x27;Year Built&#x27;,\n",
       "       &#x27;Year Remod/Add&#x27;, &#x27;Full Bath&#x27;, &#x27;Kitchen Qual_TA&#x27;, &#x27;Foundation_PConc&#x27;,\n",
       "       &#x27;TotRms AbvGrd&#x27;, &#x27;Mas Vnr Area&#x27;, &#x27;Garage Yr Blt&#x27;,\n",
       "       &#x27;Fireplace Qu_Unknown&#x27;, &#x27;Fireplaces&#x27;, &#x27;BsmtFin Type 1_GLQ&#x27;,\n",
       "       &#x27;Bsmt Qual_TA&#x27;, &#x27;Exter Qual_Gd&#x27;],\n",
       "      dtype=&#x27;object&#x27;))])</pre></div></div></div><div class=\"sk-parallel\"><div class=\"sk-parallel-item\"><div class=\"sk-item\"><div class=\"sk-label-container\"><div class=\"sk-label sk-toggleable\"><input class=\"sk-toggleable__control sk-hidden--visually\" id=\"sk-estimator-id-23\" type=\"checkbox\" ><label for=\"sk-estimator-id-23\" class=\"sk-toggleable__label sk-toggleable__label-arrow\">standardscaler</label><div class=\"sk-toggleable__content\"><pre>Index([&#x27;Overall Qual&#x27;, &#x27;Gr Liv Area&#x27;, &#x27;Garage Cars&#x27;, &#x27;Garage Area&#x27;,\n",
       "       &#x27;Total Bsmt SF&#x27;, &#x27;1st Flr SF&#x27;, &#x27;Exter Qual_TA&#x27;, &#x27;Year Built&#x27;,\n",
       "       &#x27;Year Remod/Add&#x27;, &#x27;Full Bath&#x27;, &#x27;Kitchen Qual_TA&#x27;, &#x27;Foundation_PConc&#x27;,\n",
       "       &#x27;TotRms AbvGrd&#x27;, &#x27;Mas Vnr Area&#x27;, &#x27;Garage Yr Blt&#x27;,\n",
       "       &#x27;Fireplace Qu_Unknown&#x27;, &#x27;Fireplaces&#x27;, &#x27;BsmtFin Type 1_GLQ&#x27;,\n",
       "       &#x27;Bsmt Qual_TA&#x27;, &#x27;Exter Qual_Gd&#x27;],\n",
       "      dtype=&#x27;object&#x27;)</pre></div></div></div><div class=\"sk-serial\"><div class=\"sk-item\"><div class=\"sk-estimator sk-toggleable\"><input class=\"sk-toggleable__control sk-hidden--visually\" id=\"sk-estimator-id-24\" type=\"checkbox\" ><label for=\"sk-estimator-id-24\" class=\"sk-toggleable__label sk-toggleable__label-arrow\">StandardScaler</label><div class=\"sk-toggleable__content\"><pre>StandardScaler()</pre></div></div></div></div></div></div><div class=\"sk-parallel-item\"><div class=\"sk-item\"><div class=\"sk-label-container\"><div class=\"sk-label sk-toggleable\"><input class=\"sk-toggleable__control sk-hidden--visually\" id=\"sk-estimator-id-25\" type=\"checkbox\" ><label for=\"sk-estimator-id-25\" class=\"sk-toggleable__label sk-toggleable__label-arrow\">polynomialfeatures</label><div class=\"sk-toggleable__content\"><pre>Index([&#x27;Overall Qual&#x27;, &#x27;Gr Liv Area&#x27;, &#x27;Garage Cars&#x27;, &#x27;Garage Area&#x27;,\n",
       "       &#x27;Total Bsmt SF&#x27;, &#x27;1st Flr SF&#x27;, &#x27;Exter Qual_TA&#x27;, &#x27;Year Built&#x27;,\n",
       "       &#x27;Year Remod/Add&#x27;, &#x27;Full Bath&#x27;, &#x27;Kitchen Qual_TA&#x27;, &#x27;Foundation_PConc&#x27;,\n",
       "       &#x27;TotRms AbvGrd&#x27;, &#x27;Mas Vnr Area&#x27;, &#x27;Garage Yr Blt&#x27;,\n",
       "       &#x27;Fireplace Qu_Unknown&#x27;, &#x27;Fireplaces&#x27;, &#x27;BsmtFin Type 1_GLQ&#x27;,\n",
       "       &#x27;Bsmt Qual_TA&#x27;, &#x27;Exter Qual_Gd&#x27;],\n",
       "      dtype=&#x27;object&#x27;)</pre></div></div></div><div class=\"sk-serial\"><div class=\"sk-item\"><div class=\"sk-estimator sk-toggleable\"><input class=\"sk-toggleable__control sk-hidden--visually\" id=\"sk-estimator-id-26\" type=\"checkbox\" ><label for=\"sk-estimator-id-26\" class=\"sk-toggleable__label sk-toggleable__label-arrow\">PolynomialFeatures</label><div class=\"sk-toggleable__content\"><pre>PolynomialFeatures()</pre></div></div></div></div></div></div></div></div><div class=\"sk-item\"><div class=\"sk-estimator sk-toggleable\"><input class=\"sk-toggleable__control sk-hidden--visually\" id=\"sk-estimator-id-27\" type=\"checkbox\" ><label for=\"sk-estimator-id-27\" class=\"sk-toggleable__label sk-toggleable__label-arrow\">Ridge</label><div class=\"sk-toggleable__content\"><pre>Ridge(alpha=0.1)</pre></div></div></div></div></div></div></div>"
      ],
      "text/plain": [
       "Pipeline(steps=[('transformer',\n",
       "                 ColumnTransformer(transformers=[('standardscaler',\n",
       "                                                  StandardScaler(),\n",
       "                                                  Index(['Overall Qual', 'Gr Liv Area', 'Garage Cars', 'Garage Area',\n",
       "       'Total Bsmt SF', '1st Flr SF', 'Exter Qual_TA', 'Year Built',\n",
       "       'Year Remod/Add', 'Full Bath', 'Kitchen Qual_TA', 'Foundation_PConc',\n",
       "       'TotRms AbvGrd', 'Mas Vnr Area', 'Garage Yr Blt',\n",
       "       'Fireplace Qu_Unknown', 'Fireplaces', '...\n",
       "                                                  PolynomialFeatures(),\n",
       "                                                  Index(['Overall Qual', 'Gr Liv Area', 'Garage Cars', 'Garage Area',\n",
       "       'Total Bsmt SF', '1st Flr SF', 'Exter Qual_TA', 'Year Built',\n",
       "       'Year Remod/Add', 'Full Bath', 'Kitchen Qual_TA', 'Foundation_PConc',\n",
       "       'TotRms AbvGrd', 'Mas Vnr Area', 'Garage Yr Blt',\n",
       "       'Fireplace Qu_Unknown', 'Fireplaces', 'BsmtFin Type 1_GLQ',\n",
       "       'Bsmt Qual_TA', 'Exter Qual_Gd'],\n",
       "      dtype='object'))])),\n",
       "                ('ridge', Ridge(alpha=0.1))])"
      ]
     },
     "execution_count": 25,
     "metadata": {},
     "output_type": "execute_result"
    }
   ],
   "source": [
    "# create pipeline with Ridge regression\n",
    "ridge_pipe = Pipeline([('transformer', transformer), ('ridge', Ridge(alpha=0.1))])\n",
    "ridge_pipe"
   ]
  },
  {
   "cell_type": "code",
   "execution_count": 26,
   "id": "412f8289-3a85-4e18-a701-98bffdce69f8",
   "metadata": {},
   "outputs": [
    {
     "data": {
      "text/html": [
       "<style>#sk-container-id-6 {color: black;background-color: white;}#sk-container-id-6 pre{padding: 0;}#sk-container-id-6 div.sk-toggleable {background-color: white;}#sk-container-id-6 label.sk-toggleable__label {cursor: pointer;display: block;width: 100%;margin-bottom: 0;padding: 0.3em;box-sizing: border-box;text-align: center;}#sk-container-id-6 label.sk-toggleable__label-arrow:before {content: \"▸\";float: left;margin-right: 0.25em;color: #696969;}#sk-container-id-6 label.sk-toggleable__label-arrow:hover:before {color: black;}#sk-container-id-6 div.sk-estimator:hover label.sk-toggleable__label-arrow:before {color: black;}#sk-container-id-6 div.sk-toggleable__content {max-height: 0;max-width: 0;overflow: hidden;text-align: left;background-color: #f0f8ff;}#sk-container-id-6 div.sk-toggleable__content pre {margin: 0.2em;color: black;border-radius: 0.25em;background-color: #f0f8ff;}#sk-container-id-6 input.sk-toggleable__control:checked~div.sk-toggleable__content {max-height: 200px;max-width: 100%;overflow: auto;}#sk-container-id-6 input.sk-toggleable__control:checked~label.sk-toggleable__label-arrow:before {content: \"▾\";}#sk-container-id-6 div.sk-estimator input.sk-toggleable__control:checked~label.sk-toggleable__label {background-color: #d4ebff;}#sk-container-id-6 div.sk-label input.sk-toggleable__control:checked~label.sk-toggleable__label {background-color: #d4ebff;}#sk-container-id-6 input.sk-hidden--visually {border: 0;clip: rect(1px 1px 1px 1px);clip: rect(1px, 1px, 1px, 1px);height: 1px;margin: -1px;overflow: hidden;padding: 0;position: absolute;width: 1px;}#sk-container-id-6 div.sk-estimator {font-family: monospace;background-color: #f0f8ff;border: 1px dotted black;border-radius: 0.25em;box-sizing: border-box;margin-bottom: 0.5em;}#sk-container-id-6 div.sk-estimator:hover {background-color: #d4ebff;}#sk-container-id-6 div.sk-parallel-item::after {content: \"\";width: 100%;border-bottom: 1px solid gray;flex-grow: 1;}#sk-container-id-6 div.sk-label:hover label.sk-toggleable__label {background-color: #d4ebff;}#sk-container-id-6 div.sk-serial::before {content: \"\";position: absolute;border-left: 1px solid gray;box-sizing: border-box;top: 0;bottom: 0;left: 50%;z-index: 0;}#sk-container-id-6 div.sk-serial {display: flex;flex-direction: column;align-items: center;background-color: white;padding-right: 0.2em;padding-left: 0.2em;position: relative;}#sk-container-id-6 div.sk-item {position: relative;z-index: 1;}#sk-container-id-6 div.sk-parallel {display: flex;align-items: stretch;justify-content: center;background-color: white;position: relative;}#sk-container-id-6 div.sk-item::before, #sk-container-id-6 div.sk-parallel-item::before {content: \"\";position: absolute;border-left: 1px solid gray;box-sizing: border-box;top: 0;bottom: 0;left: 50%;z-index: -1;}#sk-container-id-6 div.sk-parallel-item {display: flex;flex-direction: column;z-index: 1;position: relative;background-color: white;}#sk-container-id-6 div.sk-parallel-item:first-child::after {align-self: flex-end;width: 50%;}#sk-container-id-6 div.sk-parallel-item:last-child::after {align-self: flex-start;width: 50%;}#sk-container-id-6 div.sk-parallel-item:only-child::after {width: 0;}#sk-container-id-6 div.sk-dashed-wrapped {border: 1px dashed gray;margin: 0 0.4em 0.5em 0.4em;box-sizing: border-box;padding-bottom: 0.4em;background-color: white;}#sk-container-id-6 div.sk-label label {font-family: monospace;font-weight: bold;display: inline-block;line-height: 1.2em;}#sk-container-id-6 div.sk-label-container {text-align: center;}#sk-container-id-6 div.sk-container {/* jupyter's `normalize.less` sets `[hidden] { display: none; }` but bootstrap.min.css set `[hidden] { display: none !important; }` so we also need the `!important` here to be able to override the default hidden behavior on the sphinx rendered scikit-learn.org. See: https://github.com/scikit-learn/scikit-learn/issues/21755 */display: inline-block !important;position: relative;}#sk-container-id-6 div.sk-text-repr-fallback {display: none;}</style><div id=\"sk-container-id-6\" class=\"sk-top-container\"><div class=\"sk-text-repr-fallback\"><pre>Pipeline(steps=[(&#x27;transformer&#x27;,\n",
       "                 ColumnTransformer(transformers=[(&#x27;standardscaler&#x27;,\n",
       "                                                  StandardScaler(),\n",
       "                                                  Index([&#x27;Overall Qual&#x27;, &#x27;Gr Liv Area&#x27;, &#x27;Garage Cars&#x27;, &#x27;Garage Area&#x27;,\n",
       "       &#x27;Total Bsmt SF&#x27;, &#x27;1st Flr SF&#x27;, &#x27;Exter Qual_TA&#x27;, &#x27;Year Built&#x27;,\n",
       "       &#x27;Year Remod/Add&#x27;, &#x27;Full Bath&#x27;, &#x27;Kitchen Qual_TA&#x27;, &#x27;Foundation_PConc&#x27;,\n",
       "       &#x27;TotRms AbvGrd&#x27;, &#x27;Mas Vnr Area&#x27;, &#x27;Garage Yr Blt&#x27;,\n",
       "       &#x27;Fireplace Qu_Unknown&#x27;, &#x27;Fireplaces&#x27;, &#x27;...\n",
       "                                                  PolynomialFeatures(),\n",
       "                                                  Index([&#x27;Overall Qual&#x27;, &#x27;Gr Liv Area&#x27;, &#x27;Garage Cars&#x27;, &#x27;Garage Area&#x27;,\n",
       "       &#x27;Total Bsmt SF&#x27;, &#x27;1st Flr SF&#x27;, &#x27;Exter Qual_TA&#x27;, &#x27;Year Built&#x27;,\n",
       "       &#x27;Year Remod/Add&#x27;, &#x27;Full Bath&#x27;, &#x27;Kitchen Qual_TA&#x27;, &#x27;Foundation_PConc&#x27;,\n",
       "       &#x27;TotRms AbvGrd&#x27;, &#x27;Mas Vnr Area&#x27;, &#x27;Garage Yr Blt&#x27;,\n",
       "       &#x27;Fireplace Qu_Unknown&#x27;, &#x27;Fireplaces&#x27;, &#x27;BsmtFin Type 1_GLQ&#x27;,\n",
       "       &#x27;Bsmt Qual_TA&#x27;, &#x27;Exter Qual_Gd&#x27;],\n",
       "      dtype=&#x27;object&#x27;))])),\n",
       "                (&#x27;ridge&#x27;, Ridge(alpha=0.1))])</pre><b>In a Jupyter environment, please rerun this cell to show the HTML representation or trust the notebook. <br />On GitHub, the HTML representation is unable to render, please try loading this page with nbviewer.org.</b></div><div class=\"sk-container\" hidden><div class=\"sk-item sk-dashed-wrapped\"><div class=\"sk-label-container\"><div class=\"sk-label sk-toggleable\"><input class=\"sk-toggleable__control sk-hidden--visually\" id=\"sk-estimator-id-28\" type=\"checkbox\" ><label for=\"sk-estimator-id-28\" class=\"sk-toggleable__label sk-toggleable__label-arrow\">Pipeline</label><div class=\"sk-toggleable__content\"><pre>Pipeline(steps=[(&#x27;transformer&#x27;,\n",
       "                 ColumnTransformer(transformers=[(&#x27;standardscaler&#x27;,\n",
       "                                                  StandardScaler(),\n",
       "                                                  Index([&#x27;Overall Qual&#x27;, &#x27;Gr Liv Area&#x27;, &#x27;Garage Cars&#x27;, &#x27;Garage Area&#x27;,\n",
       "       &#x27;Total Bsmt SF&#x27;, &#x27;1st Flr SF&#x27;, &#x27;Exter Qual_TA&#x27;, &#x27;Year Built&#x27;,\n",
       "       &#x27;Year Remod/Add&#x27;, &#x27;Full Bath&#x27;, &#x27;Kitchen Qual_TA&#x27;, &#x27;Foundation_PConc&#x27;,\n",
       "       &#x27;TotRms AbvGrd&#x27;, &#x27;Mas Vnr Area&#x27;, &#x27;Garage Yr Blt&#x27;,\n",
       "       &#x27;Fireplace Qu_Unknown&#x27;, &#x27;Fireplaces&#x27;, &#x27;...\n",
       "                                                  PolynomialFeatures(),\n",
       "                                                  Index([&#x27;Overall Qual&#x27;, &#x27;Gr Liv Area&#x27;, &#x27;Garage Cars&#x27;, &#x27;Garage Area&#x27;,\n",
       "       &#x27;Total Bsmt SF&#x27;, &#x27;1st Flr SF&#x27;, &#x27;Exter Qual_TA&#x27;, &#x27;Year Built&#x27;,\n",
       "       &#x27;Year Remod/Add&#x27;, &#x27;Full Bath&#x27;, &#x27;Kitchen Qual_TA&#x27;, &#x27;Foundation_PConc&#x27;,\n",
       "       &#x27;TotRms AbvGrd&#x27;, &#x27;Mas Vnr Area&#x27;, &#x27;Garage Yr Blt&#x27;,\n",
       "       &#x27;Fireplace Qu_Unknown&#x27;, &#x27;Fireplaces&#x27;, &#x27;BsmtFin Type 1_GLQ&#x27;,\n",
       "       &#x27;Bsmt Qual_TA&#x27;, &#x27;Exter Qual_Gd&#x27;],\n",
       "      dtype=&#x27;object&#x27;))])),\n",
       "                (&#x27;ridge&#x27;, Ridge(alpha=0.1))])</pre></div></div></div><div class=\"sk-serial\"><div class=\"sk-item sk-dashed-wrapped\"><div class=\"sk-label-container\"><div class=\"sk-label sk-toggleable\"><input class=\"sk-toggleable__control sk-hidden--visually\" id=\"sk-estimator-id-29\" type=\"checkbox\" ><label for=\"sk-estimator-id-29\" class=\"sk-toggleable__label sk-toggleable__label-arrow\">transformer: ColumnTransformer</label><div class=\"sk-toggleable__content\"><pre>ColumnTransformer(transformers=[(&#x27;standardscaler&#x27;, StandardScaler(),\n",
       "                                 Index([&#x27;Overall Qual&#x27;, &#x27;Gr Liv Area&#x27;, &#x27;Garage Cars&#x27;, &#x27;Garage Area&#x27;,\n",
       "       &#x27;Total Bsmt SF&#x27;, &#x27;1st Flr SF&#x27;, &#x27;Exter Qual_TA&#x27;, &#x27;Year Built&#x27;,\n",
       "       &#x27;Year Remod/Add&#x27;, &#x27;Full Bath&#x27;, &#x27;Kitchen Qual_TA&#x27;, &#x27;Foundation_PConc&#x27;,\n",
       "       &#x27;TotRms AbvGrd&#x27;, &#x27;Mas Vnr Area&#x27;, &#x27;Garage Yr Blt&#x27;,\n",
       "       &#x27;Fireplace Qu_Unknown&#x27;, &#x27;Fireplaces&#x27;, &#x27;BsmtFin Type 1_GLQ&#x27;,\n",
       "       &#x27;Bsmt Qual_TA&#x27;...\n",
       "                                (&#x27;polynomialfeatures&#x27;, PolynomialFeatures(),\n",
       "                                 Index([&#x27;Overall Qual&#x27;, &#x27;Gr Liv Area&#x27;, &#x27;Garage Cars&#x27;, &#x27;Garage Area&#x27;,\n",
       "       &#x27;Total Bsmt SF&#x27;, &#x27;1st Flr SF&#x27;, &#x27;Exter Qual_TA&#x27;, &#x27;Year Built&#x27;,\n",
       "       &#x27;Year Remod/Add&#x27;, &#x27;Full Bath&#x27;, &#x27;Kitchen Qual_TA&#x27;, &#x27;Foundation_PConc&#x27;,\n",
       "       &#x27;TotRms AbvGrd&#x27;, &#x27;Mas Vnr Area&#x27;, &#x27;Garage Yr Blt&#x27;,\n",
       "       &#x27;Fireplace Qu_Unknown&#x27;, &#x27;Fireplaces&#x27;, &#x27;BsmtFin Type 1_GLQ&#x27;,\n",
       "       &#x27;Bsmt Qual_TA&#x27;, &#x27;Exter Qual_Gd&#x27;],\n",
       "      dtype=&#x27;object&#x27;))])</pre></div></div></div><div class=\"sk-parallel\"><div class=\"sk-parallel-item\"><div class=\"sk-item\"><div class=\"sk-label-container\"><div class=\"sk-label sk-toggleable\"><input class=\"sk-toggleable__control sk-hidden--visually\" id=\"sk-estimator-id-30\" type=\"checkbox\" ><label for=\"sk-estimator-id-30\" class=\"sk-toggleable__label sk-toggleable__label-arrow\">standardscaler</label><div class=\"sk-toggleable__content\"><pre>Index([&#x27;Overall Qual&#x27;, &#x27;Gr Liv Area&#x27;, &#x27;Garage Cars&#x27;, &#x27;Garage Area&#x27;,\n",
       "       &#x27;Total Bsmt SF&#x27;, &#x27;1st Flr SF&#x27;, &#x27;Exter Qual_TA&#x27;, &#x27;Year Built&#x27;,\n",
       "       &#x27;Year Remod/Add&#x27;, &#x27;Full Bath&#x27;, &#x27;Kitchen Qual_TA&#x27;, &#x27;Foundation_PConc&#x27;,\n",
       "       &#x27;TotRms AbvGrd&#x27;, &#x27;Mas Vnr Area&#x27;, &#x27;Garage Yr Blt&#x27;,\n",
       "       &#x27;Fireplace Qu_Unknown&#x27;, &#x27;Fireplaces&#x27;, &#x27;BsmtFin Type 1_GLQ&#x27;,\n",
       "       &#x27;Bsmt Qual_TA&#x27;, &#x27;Exter Qual_Gd&#x27;],\n",
       "      dtype=&#x27;object&#x27;)</pre></div></div></div><div class=\"sk-serial\"><div class=\"sk-item\"><div class=\"sk-estimator sk-toggleable\"><input class=\"sk-toggleable__control sk-hidden--visually\" id=\"sk-estimator-id-31\" type=\"checkbox\" ><label for=\"sk-estimator-id-31\" class=\"sk-toggleable__label sk-toggleable__label-arrow\">StandardScaler</label><div class=\"sk-toggleable__content\"><pre>StandardScaler()</pre></div></div></div></div></div></div><div class=\"sk-parallel-item\"><div class=\"sk-item\"><div class=\"sk-label-container\"><div class=\"sk-label sk-toggleable\"><input class=\"sk-toggleable__control sk-hidden--visually\" id=\"sk-estimator-id-32\" type=\"checkbox\" ><label for=\"sk-estimator-id-32\" class=\"sk-toggleable__label sk-toggleable__label-arrow\">polynomialfeatures</label><div class=\"sk-toggleable__content\"><pre>Index([&#x27;Overall Qual&#x27;, &#x27;Gr Liv Area&#x27;, &#x27;Garage Cars&#x27;, &#x27;Garage Area&#x27;,\n",
       "       &#x27;Total Bsmt SF&#x27;, &#x27;1st Flr SF&#x27;, &#x27;Exter Qual_TA&#x27;, &#x27;Year Built&#x27;,\n",
       "       &#x27;Year Remod/Add&#x27;, &#x27;Full Bath&#x27;, &#x27;Kitchen Qual_TA&#x27;, &#x27;Foundation_PConc&#x27;,\n",
       "       &#x27;TotRms AbvGrd&#x27;, &#x27;Mas Vnr Area&#x27;, &#x27;Garage Yr Blt&#x27;,\n",
       "       &#x27;Fireplace Qu_Unknown&#x27;, &#x27;Fireplaces&#x27;, &#x27;BsmtFin Type 1_GLQ&#x27;,\n",
       "       &#x27;Bsmt Qual_TA&#x27;, &#x27;Exter Qual_Gd&#x27;],\n",
       "      dtype=&#x27;object&#x27;)</pre></div></div></div><div class=\"sk-serial\"><div class=\"sk-item\"><div class=\"sk-estimator sk-toggleable\"><input class=\"sk-toggleable__control sk-hidden--visually\" id=\"sk-estimator-id-33\" type=\"checkbox\" ><label for=\"sk-estimator-id-33\" class=\"sk-toggleable__label sk-toggleable__label-arrow\">PolynomialFeatures</label><div class=\"sk-toggleable__content\"><pre>PolynomialFeatures()</pre></div></div></div></div></div></div></div></div><div class=\"sk-item\"><div class=\"sk-estimator sk-toggleable\"><input class=\"sk-toggleable__control sk-hidden--visually\" id=\"sk-estimator-id-34\" type=\"checkbox\" ><label for=\"sk-estimator-id-34\" class=\"sk-toggleable__label sk-toggleable__label-arrow\">Ridge</label><div class=\"sk-toggleable__content\"><pre>Ridge(alpha=0.1)</pre></div></div></div></div></div></div></div>"
      ],
      "text/plain": [
       "Pipeline(steps=[('transformer',\n",
       "                 ColumnTransformer(transformers=[('standardscaler',\n",
       "                                                  StandardScaler(),\n",
       "                                                  Index(['Overall Qual', 'Gr Liv Area', 'Garage Cars', 'Garage Area',\n",
       "       'Total Bsmt SF', '1st Flr SF', 'Exter Qual_TA', 'Year Built',\n",
       "       'Year Remod/Add', 'Full Bath', 'Kitchen Qual_TA', 'Foundation_PConc',\n",
       "       'TotRms AbvGrd', 'Mas Vnr Area', 'Garage Yr Blt',\n",
       "       'Fireplace Qu_Unknown', 'Fireplaces', '...\n",
       "                                                  PolynomialFeatures(),\n",
       "                                                  Index(['Overall Qual', 'Gr Liv Area', 'Garage Cars', 'Garage Area',\n",
       "       'Total Bsmt SF', '1st Flr SF', 'Exter Qual_TA', 'Year Built',\n",
       "       'Year Remod/Add', 'Full Bath', 'Kitchen Qual_TA', 'Foundation_PConc',\n",
       "       'TotRms AbvGrd', 'Mas Vnr Area', 'Garage Yr Blt',\n",
       "       'Fireplace Qu_Unknown', 'Fireplaces', 'BsmtFin Type 1_GLQ',\n",
       "       'Bsmt Qual_TA', 'Exter Qual_Gd'],\n",
       "      dtype='object'))])),\n",
       "                ('ridge', Ridge(alpha=0.1))])"
      ]
     },
     "execution_count": 26,
     "metadata": {},
     "output_type": "execute_result"
    }
   ],
   "source": [
    "# fit Ridge regression\n",
    "ridge_pipe.fit(X_train, y_train)"
   ]
  },
  {
   "cell_type": "code",
   "execution_count": 27,
   "id": "132b55cf-094e-4cd6-aedb-51782941b324",
   "metadata": {},
   "outputs": [
    {
     "data": {
      "text/plain": [
       "0.9195974079845656"
      ]
     },
     "execution_count": 27,
     "metadata": {},
     "output_type": "execute_result"
    }
   ],
   "source": [
    "# display Ridge train R-Squared score\n",
    "ridge_pipe.score(X_train, y_train)"
   ]
  },
  {
   "cell_type": "code",
   "execution_count": 28,
   "id": "60d8d364-eec9-4bb6-ba89-01c0963aca0b",
   "metadata": {},
   "outputs": [
    {
     "data": {
      "text/plain": [
       "0.8972249932421588"
      ]
     },
     "execution_count": 28,
     "metadata": {},
     "output_type": "execute_result"
    }
   ],
   "source": [
    "# display Ridge test R-Squared score\n",
    "ridge_pipe.score(X_test, y_test)"
   ]
  },
  {
   "cell_type": "code",
   "execution_count": 29,
   "id": "94e4505d-6279-4c66-b3f9-0edbe5f312d7",
   "metadata": {},
   "outputs": [],
   "source": [
    "# predict Ridge regression\n",
    "ridge_train_preds = ridge_pipe.predict(X_train)\n",
    "ridge_test_preds = ridge_pipe.predict(X_test)"
   ]
  },
  {
   "cell_type": "code",
   "execution_count": 30,
   "id": "dd7a9ab8-d5b8-4174-9dd4-c9c1cd1ba67f",
   "metadata": {},
   "outputs": [
    {
     "data": {
      "text/plain": [
       "22770.197831958743"
      ]
     },
     "execution_count": 30,
     "metadata": {},
     "output_type": "execute_result"
    }
   ],
   "source": [
    "# display Ridge train rmse\n",
    "mean_squared_error(y_train, ridge_train_preds, squared=False)"
   ]
  },
  {
   "cell_type": "code",
   "execution_count": 31,
   "id": "397eb451-fe09-4adb-a2dd-e9907617ab49",
   "metadata": {},
   "outputs": [
    {
     "data": {
      "text/plain": [
       "24400.009813841192"
      ]
     },
     "execution_count": 31,
     "metadata": {},
     "output_type": "execute_result"
    }
   ],
   "source": [
    "# display Ridge test rmse\n",
    "mean_squared_error(y_test, ridge_test_preds, squared=False)"
   ]
  },
  {
   "cell_type": "markdown",
   "id": "182a4838-d97d-4ee2-bbe1-a2ef37900069",
   "metadata": {},
   "source": [
    "## Select Columns, Transform, and Make Predictions on Test Data"
   ]
  },
  {
   "cell_type": "code",
   "execution_count": 32,
   "id": "f1120841-78f4-48e2-92a2-1391608493ba",
   "metadata": {},
   "outputs": [],
   "source": [
    "selected_columns = train_selected.columns.drop('SalePrice')\n",
    "test_selected = test_cleaned[selected_columns]\n",
    "test_selected = test_selected.copy()\n",
    "test_selected['Unnamed: 0'] = test_cleaned['Unnamed: 0']"
   ]
  },
  {
   "cell_type": "code",
   "execution_count": 33,
   "id": "bb3cbe14-cf72-4e60-bf19-3f8d15b1c3ec",
   "metadata": {},
   "outputs": [],
   "source": [
    "test_transform = transformer.transform(test_selected)"
   ]
  },
  {
   "cell_type": "code",
   "execution_count": 34,
   "id": "036d275b-cbaa-42c0-be05-54127910801f",
   "metadata": {},
   "outputs": [],
   "source": [
    "preds = lr.predict(test_transform)"
   ]
  },
  {
   "cell_type": "code",
   "execution_count": 35,
   "id": "175e7dfe-2ed1-4638-bd61-870253b3d5a0",
   "metadata": {},
   "outputs": [],
   "source": [
    "submission = pd.DataFrame(index=test_cleaned['Unnamed: 0'])\n",
    "submission['SalePrice'] = preds\n",
    "submission.reset_index(inplace=True)"
   ]
  },
  {
   "cell_type": "code",
   "execution_count": 36,
   "id": "b9595ed8-2a3f-48a7-85aa-0fc629344472",
   "metadata": {},
   "outputs": [],
   "source": [
    "# save submission dataset\n",
    "submission.to_csv('../data/kaggle_submission.csv', index=False)"
   ]
  },
  {
   "cell_type": "markdown",
   "id": "b86e8b7d-56fc-4e36-9e84-4178e1ddf501",
   "metadata": {},
   "source": [
    "## OLS"
   ]
  },
  {
   "cell_type": "code",
   "execution_count": 37,
   "id": "fb0e86b8-a0f7-4080-9344-5423d2c8e751",
   "metadata": {},
   "outputs": [],
   "source": [
    "X = train_selected.drop(columns=['SalePrice'])\n",
    "y = train_selected['SalePrice']"
   ]
  },
  {
   "cell_type": "code",
   "execution_count": 38,
   "id": "bb288efa-1722-479d-82a2-aceddd17a4fe",
   "metadata": {},
   "outputs": [],
   "source": [
    "X = sm.add_constant(X)"
   ]
  },
  {
   "cell_type": "code",
   "execution_count": 39,
   "id": "55dc2323-8bc4-4460-9b45-0a4bae1c076c",
   "metadata": {},
   "outputs": [],
   "source": [
    "ols = sm.OLS(y, X).fit()"
   ]
  },
  {
   "cell_type": "code",
   "execution_count": 40,
   "id": "47b041d6-a331-4b93-8b94-5aeb61c9df53",
   "metadata": {},
   "outputs": [
    {
     "data": {
      "text/html": [
       "<table class=\"simpletable\">\n",
       "<caption>OLS Regression Results</caption>\n",
       "<tr>\n",
       "  <th>Dep. Variable:</th>        <td>SalePrice</td>    <th>  R-squared:         </th> <td>   0.807</td> \n",
       "</tr>\n",
       "<tr>\n",
       "  <th>Model:</th>                   <td>OLS</td>       <th>  Adj. R-squared:    </th> <td>   0.804</td> \n",
       "</tr>\n",
       "<tr>\n",
       "  <th>Method:</th>             <td>Least Squares</td>  <th>  F-statistic:       </th> <td>   316.3</td> \n",
       "</tr>\n",
       "<tr>\n",
       "  <th>Date:</th>             <td>Tue, 02 Apr 2024</td> <th>  Prob (F-statistic):</th>  <td>  0.00</td>  \n",
       "</tr>\n",
       "<tr>\n",
       "  <th>Time:</th>                 <td>11:50:58</td>     <th>  Log-Likelihood:    </th> <td> -18274.</td> \n",
       "</tr>\n",
       "<tr>\n",
       "  <th>No. Observations:</th>      <td>  1538</td>      <th>  AIC:               </th> <td>3.659e+04</td>\n",
       "</tr>\n",
       "<tr>\n",
       "  <th>Df Residuals:</th>          <td>  1517</td>      <th>  BIC:               </th> <td>3.670e+04</td>\n",
       "</tr>\n",
       "<tr>\n",
       "  <th>Df Model:</th>              <td>    20</td>      <th>                     </th>     <td> </td>    \n",
       "</tr>\n",
       "<tr>\n",
       "  <th>Covariance Type:</th>      <td>nonrobust</td>    <th>                     </th>     <td> </td>    \n",
       "</tr>\n",
       "</table>\n",
       "<table class=\"simpletable\">\n",
       "<tr>\n",
       "            <td></td>              <th>coef</th>     <th>std err</th>      <th>t</th>      <th>P>|t|</th>  <th>[0.025</th>    <th>0.975]</th>  \n",
       "</tr>\n",
       "<tr>\n",
       "  <th>const</th>                <td>-8.943e+05</td> <td> 1.56e+05</td> <td>   -5.751</td> <td> 0.000</td> <td> -1.2e+06</td> <td>-5.89e+05</td>\n",
       "</tr>\n",
       "<tr>\n",
       "  <th>Overall Qual</th>         <td> 1.566e+04</td> <td> 1111.259</td> <td>   14.095</td> <td> 0.000</td> <td> 1.35e+04</td> <td> 1.78e+04</td>\n",
       "</tr>\n",
       "<tr>\n",
       "  <th>Gr Liv Area</th>          <td>   32.8060</td> <td>    4.207</td> <td>    7.798</td> <td> 0.000</td> <td>   24.554</td> <td>   41.058</td>\n",
       "</tr>\n",
       "<tr>\n",
       "  <th>Garage Cars</th>          <td> 7853.9138</td> <td> 2948.275</td> <td>    2.664</td> <td> 0.008</td> <td> 2070.787</td> <td> 1.36e+04</td>\n",
       "</tr>\n",
       "<tr>\n",
       "  <th>Garage Area</th>          <td>   22.6179</td> <td>   10.060</td> <td>    2.248</td> <td> 0.025</td> <td>    2.885</td> <td>   42.351</td>\n",
       "</tr>\n",
       "<tr>\n",
       "  <th>Total Bsmt SF</th>        <td>   11.4146</td> <td>    3.816</td> <td>    2.992</td> <td> 0.003</td> <td>    3.930</td> <td>   18.899</td>\n",
       "</tr>\n",
       "<tr>\n",
       "  <th>1st Flr SF</th>           <td>    9.4287</td> <td>    4.343</td> <td>    2.171</td> <td> 0.030</td> <td>    0.909</td> <td>   17.948</td>\n",
       "</tr>\n",
       "<tr>\n",
       "  <th>Exter Qual_TA</th>        <td>-4.628e+04</td> <td> 5010.347</td> <td>   -9.236</td> <td> 0.000</td> <td>-5.61e+04</td> <td>-3.64e+04</td>\n",
       "</tr>\n",
       "<tr>\n",
       "  <th>Year Built</th>           <td>  182.8049</td> <td>   58.435</td> <td>    3.128</td> <td> 0.002</td> <td>   68.182</td> <td>  297.427</td>\n",
       "</tr>\n",
       "<tr>\n",
       "  <th>Year Remod/Add</th>       <td>  299.3376</td> <td>   64.977</td> <td>    4.607</td> <td> 0.000</td> <td>  171.883</td> <td>  426.792</td>\n",
       "</tr>\n",
       "<tr>\n",
       "  <th>Full Bath</th>            <td>-3143.1781</td> <td> 2414.950</td> <td>   -1.302</td> <td> 0.193</td> <td>-7880.172</td> <td> 1593.816</td>\n",
       "</tr>\n",
       "<tr>\n",
       "  <th>Kitchen Qual_TA</th>      <td>-4936.7937</td> <td> 2631.634</td> <td>   -1.876</td> <td> 0.061</td> <td>-1.01e+04</td> <td>  225.232</td>\n",
       "</tr>\n",
       "<tr>\n",
       "  <th>Foundation_PConc</th>     <td> 3628.5035</td> <td> 2889.009</td> <td>    1.256</td> <td> 0.209</td> <td>-2038.371</td> <td> 9295.378</td>\n",
       "</tr>\n",
       "<tr>\n",
       "  <th>TotRms AbvGrd</th>        <td> 2364.1695</td> <td> 1086.219</td> <td>    2.177</td> <td> 0.030</td> <td>  233.519</td> <td> 4494.820</td>\n",
       "</tr>\n",
       "<tr>\n",
       "  <th>Mas Vnr Area</th>         <td>   29.5740</td> <td>    6.271</td> <td>    4.716</td> <td> 0.000</td> <td>   17.274</td> <td>   41.874</td>\n",
       "</tr>\n",
       "<tr>\n",
       "  <th>Garage Yr Blt</th>        <td>  -24.4284</td> <td>   63.413</td> <td>   -0.385</td> <td> 0.700</td> <td> -148.814</td> <td>   99.958</td>\n",
       "</tr>\n",
       "<tr>\n",
       "  <th>Fireplace Qu_Unknown</th> <td>-3585.9599</td> <td> 4417.594</td> <td>   -0.812</td> <td> 0.417</td> <td>-1.23e+04</td> <td> 5079.278</td>\n",
       "</tr>\n",
       "<tr>\n",
       "  <th>Fireplaces</th>           <td> 8921.2912</td> <td> 3515.627</td> <td>    2.538</td> <td> 0.011</td> <td> 2025.287</td> <td> 1.58e+04</td>\n",
       "</tr>\n",
       "<tr>\n",
       "  <th>BsmtFin Type 1_GLQ</th>   <td> 1.331e+04</td> <td> 2433.024</td> <td>    5.472</td> <td> 0.000</td> <td> 8541.365</td> <td> 1.81e+04</td>\n",
       "</tr>\n",
       "<tr>\n",
       "  <th>Bsmt Qual_TA</th>         <td> 1219.6282</td> <td> 2705.696</td> <td>    0.451</td> <td> 0.652</td> <td>-4087.674</td> <td> 6526.930</td>\n",
       "</tr>\n",
       "<tr>\n",
       "  <th>Exter Qual_Gd</th>        <td>-4.483e+04</td> <td> 4623.573</td> <td>   -9.696</td> <td> 0.000</td> <td>-5.39e+04</td> <td>-3.58e+04</td>\n",
       "</tr>\n",
       "</table>\n",
       "<table class=\"simpletable\">\n",
       "<tr>\n",
       "  <th>Omnibus:</th>       <td>833.468</td> <th>  Durbin-Watson:     </th> <td>   1.952</td> \n",
       "</tr>\n",
       "<tr>\n",
       "  <th>Prob(Omnibus):</th> <td> 0.000</td>  <th>  Jarque-Bera (JB):  </th> <td>87666.127</td>\n",
       "</tr>\n",
       "<tr>\n",
       "  <th>Skew:</th>          <td>-1.576</td>  <th>  Prob(JB):          </th> <td>    0.00</td> \n",
       "</tr>\n",
       "<tr>\n",
       "  <th>Kurtosis:</th>      <td>39.852</td>  <th>  Cond. No.          </th> <td>7.11e+05</td> \n",
       "</tr>\n",
       "</table><br/><br/>Notes:<br/>[1] Standard Errors assume that the covariance matrix of the errors is correctly specified.<br/>[2] The condition number is large, 7.11e+05. This might indicate that there are<br/>strong multicollinearity or other numerical problems."
      ],
      "text/latex": [
       "\\begin{center}\n",
       "\\begin{tabular}{lclc}\n",
       "\\toprule\n",
       "\\textbf{Dep. Variable:}        &    SalePrice     & \\textbf{  R-squared:         } &     0.807   \\\\\n",
       "\\textbf{Model:}                &       OLS        & \\textbf{  Adj. R-squared:    } &     0.804   \\\\\n",
       "\\textbf{Method:}               &  Least Squares   & \\textbf{  F-statistic:       } &     316.3   \\\\\n",
       "\\textbf{Date:}                 & Tue, 02 Apr 2024 & \\textbf{  Prob (F-statistic):} &     0.00    \\\\\n",
       "\\textbf{Time:}                 &     11:50:58     & \\textbf{  Log-Likelihood:    } &   -18274.   \\\\\n",
       "\\textbf{No. Observations:}     &        1538      & \\textbf{  AIC:               } & 3.659e+04   \\\\\n",
       "\\textbf{Df Residuals:}         &        1517      & \\textbf{  BIC:               } & 3.670e+04   \\\\\n",
       "\\textbf{Df Model:}             &          20      & \\textbf{                     } &             \\\\\n",
       "\\textbf{Covariance Type:}      &    nonrobust     & \\textbf{                     } &             \\\\\n",
       "\\bottomrule\n",
       "\\end{tabular}\n",
       "\\begin{tabular}{lcccccc}\n",
       "                               & \\textbf{coef} & \\textbf{std err} & \\textbf{t} & \\textbf{P$> |$t$|$} & \\textbf{[0.025} & \\textbf{0.975]}  \\\\\n",
       "\\midrule\n",
       "\\textbf{const}                 &   -8.943e+05  &     1.56e+05     &    -5.751  &         0.000        &     -1.2e+06    &    -5.89e+05     \\\\\n",
       "\\textbf{Overall Qual}          &    1.566e+04  &     1111.259     &    14.095  &         0.000        &     1.35e+04    &     1.78e+04     \\\\\n",
       "\\textbf{Gr Liv Area}           &      32.8060  &        4.207     &     7.798  &         0.000        &       24.554    &       41.058     \\\\\n",
       "\\textbf{Garage Cars}           &    7853.9138  &     2948.275     &     2.664  &         0.008        &     2070.787    &     1.36e+04     \\\\\n",
       "\\textbf{Garage Area}           &      22.6179  &       10.060     &     2.248  &         0.025        &        2.885    &       42.351     \\\\\n",
       "\\textbf{Total Bsmt SF}         &      11.4146  &        3.816     &     2.992  &         0.003        &        3.930    &       18.899     \\\\\n",
       "\\textbf{1st Flr SF}            &       9.4287  &        4.343     &     2.171  &         0.030        &        0.909    &       17.948     \\\\\n",
       "\\textbf{Exter Qual\\_TA}        &   -4.628e+04  &     5010.347     &    -9.236  &         0.000        &    -5.61e+04    &    -3.64e+04     \\\\\n",
       "\\textbf{Year Built}            &     182.8049  &       58.435     &     3.128  &         0.002        &       68.182    &      297.427     \\\\\n",
       "\\textbf{Year Remod/Add}        &     299.3376  &       64.977     &     4.607  &         0.000        &      171.883    &      426.792     \\\\\n",
       "\\textbf{Full Bath}             &   -3143.1781  &     2414.950     &    -1.302  &         0.193        &    -7880.172    &     1593.816     \\\\\n",
       "\\textbf{Kitchen Qual\\_TA}      &   -4936.7937  &     2631.634     &    -1.876  &         0.061        &    -1.01e+04    &      225.232     \\\\\n",
       "\\textbf{Foundation\\_PConc}     &    3628.5035  &     2889.009     &     1.256  &         0.209        &    -2038.371    &     9295.378     \\\\\n",
       "\\textbf{TotRms AbvGrd}         &    2364.1695  &     1086.219     &     2.177  &         0.030        &      233.519    &     4494.820     \\\\\n",
       "\\textbf{Mas Vnr Area}          &      29.5740  &        6.271     &     4.716  &         0.000        &       17.274    &       41.874     \\\\\n",
       "\\textbf{Garage Yr Blt}         &     -24.4284  &       63.413     &    -0.385  &         0.700        &     -148.814    &       99.958     \\\\\n",
       "\\textbf{Fireplace Qu\\_Unknown} &   -3585.9599  &     4417.594     &    -0.812  &         0.417        &    -1.23e+04    &     5079.278     \\\\\n",
       "\\textbf{Fireplaces}            &    8921.2912  &     3515.627     &     2.538  &         0.011        &     2025.287    &     1.58e+04     \\\\\n",
       "\\textbf{BsmtFin Type 1\\_GLQ}   &    1.331e+04  &     2433.024     &     5.472  &         0.000        &     8541.365    &     1.81e+04     \\\\\n",
       "\\textbf{Bsmt Qual\\_TA}         &    1219.6282  &     2705.696     &     0.451  &         0.652        &    -4087.674    &     6526.930     \\\\\n",
       "\\textbf{Exter Qual\\_Gd}        &   -4.483e+04  &     4623.573     &    -9.696  &         0.000        &    -5.39e+04    &    -3.58e+04     \\\\\n",
       "\\bottomrule\n",
       "\\end{tabular}\n",
       "\\begin{tabular}{lclc}\n",
       "\\textbf{Omnibus:}       & 833.468 & \\textbf{  Durbin-Watson:     } &     1.952  \\\\\n",
       "\\textbf{Prob(Omnibus):} &   0.000 & \\textbf{  Jarque-Bera (JB):  } & 87666.127  \\\\\n",
       "\\textbf{Skew:}          &  -1.576 & \\textbf{  Prob(JB):          } &      0.00  \\\\\n",
       "\\textbf{Kurtosis:}      &  39.852 & \\textbf{  Cond. No.          } &  7.11e+05  \\\\\n",
       "\\bottomrule\n",
       "\\end{tabular}\n",
       "%\\caption{OLS Regression Results}\n",
       "\\end{center}\n",
       "\n",
       "Notes: \\newline\n",
       " [1] Standard Errors assume that the covariance matrix of the errors is correctly specified. \\newline\n",
       " [2] The condition number is large, 7.11e+05. This might indicate that there are \\newline\n",
       " strong multicollinearity or other numerical problems."
      ],
      "text/plain": [
       "<class 'statsmodels.iolib.summary.Summary'>\n",
       "\"\"\"\n",
       "                            OLS Regression Results                            \n",
       "==============================================================================\n",
       "Dep. Variable:              SalePrice   R-squared:                       0.807\n",
       "Model:                            OLS   Adj. R-squared:                  0.804\n",
       "Method:                 Least Squares   F-statistic:                     316.3\n",
       "Date:                Tue, 02 Apr 2024   Prob (F-statistic):               0.00\n",
       "Time:                        11:50:58   Log-Likelihood:                -18274.\n",
       "No. Observations:                1538   AIC:                         3.659e+04\n",
       "Df Residuals:                    1517   BIC:                         3.670e+04\n",
       "Df Model:                          20                                         \n",
       "Covariance Type:            nonrobust                                         \n",
       "========================================================================================\n",
       "                           coef    std err          t      P>|t|      [0.025      0.975]\n",
       "----------------------------------------------------------------------------------------\n",
       "const                -8.943e+05   1.56e+05     -5.751      0.000    -1.2e+06   -5.89e+05\n",
       "Overall Qual          1.566e+04   1111.259     14.095      0.000    1.35e+04    1.78e+04\n",
       "Gr Liv Area             32.8060      4.207      7.798      0.000      24.554      41.058\n",
       "Garage Cars           7853.9138   2948.275      2.664      0.008    2070.787    1.36e+04\n",
       "Garage Area             22.6179     10.060      2.248      0.025       2.885      42.351\n",
       "Total Bsmt SF           11.4146      3.816      2.992      0.003       3.930      18.899\n",
       "1st Flr SF               9.4287      4.343      2.171      0.030       0.909      17.948\n",
       "Exter Qual_TA        -4.628e+04   5010.347     -9.236      0.000   -5.61e+04   -3.64e+04\n",
       "Year Built             182.8049     58.435      3.128      0.002      68.182     297.427\n",
       "Year Remod/Add         299.3376     64.977      4.607      0.000     171.883     426.792\n",
       "Full Bath            -3143.1781   2414.950     -1.302      0.193   -7880.172    1593.816\n",
       "Kitchen Qual_TA      -4936.7937   2631.634     -1.876      0.061   -1.01e+04     225.232\n",
       "Foundation_PConc      3628.5035   2889.009      1.256      0.209   -2038.371    9295.378\n",
       "TotRms AbvGrd         2364.1695   1086.219      2.177      0.030     233.519    4494.820\n",
       "Mas Vnr Area            29.5740      6.271      4.716      0.000      17.274      41.874\n",
       "Garage Yr Blt          -24.4284     63.413     -0.385      0.700    -148.814      99.958\n",
       "Fireplace Qu_Unknown -3585.9599   4417.594     -0.812      0.417   -1.23e+04    5079.278\n",
       "Fireplaces            8921.2912   3515.627      2.538      0.011    2025.287    1.58e+04\n",
       "BsmtFin Type 1_GLQ    1.331e+04   2433.024      5.472      0.000    8541.365    1.81e+04\n",
       "Bsmt Qual_TA          1219.6282   2705.696      0.451      0.652   -4087.674    6526.930\n",
       "Exter Qual_Gd        -4.483e+04   4623.573     -9.696      0.000   -5.39e+04   -3.58e+04\n",
       "==============================================================================\n",
       "Omnibus:                      833.468   Durbin-Watson:                   1.952\n",
       "Prob(Omnibus):                  0.000   Jarque-Bera (JB):            87666.127\n",
       "Skew:                          -1.576   Prob(JB):                         0.00\n",
       "Kurtosis:                      39.852   Cond. No.                     7.11e+05\n",
       "==============================================================================\n",
       "\n",
       "Notes:\n",
       "[1] Standard Errors assume that the covariance matrix of the errors is correctly specified.\n",
       "[2] The condition number is large, 7.11e+05. This might indicate that there are\n",
       "strong multicollinearity or other numerical problems.\n",
       "\"\"\""
      ]
     },
     "execution_count": 40,
     "metadata": {},
     "output_type": "execute_result"
    }
   ],
   "source": [
    "ols.summary()"
   ]
  },
  {
   "cell_type": "markdown",
   "id": "b4da0861-a7ec-438a-a59a-31546bf55a01",
   "metadata": {},
   "source": [
    "Interpretation: p-value is less than alpha of 0.05 for overall quality, above ground living area, and garage car capacity when correlating with sale price of houses, which means data results are statistically significant."
   ]
  },
  {
   "cell_type": "code",
   "execution_count": null,
   "id": "037f42c9-694c-4f2e-8ffc-9eb73999ce5a",
   "metadata": {},
   "outputs": [],
   "source": []
  }
 ],
 "metadata": {
  "kernelspec": {
   "display_name": "Python 3 (ipykernel)",
   "language": "python",
   "name": "python3"
  },
  "language_info": {
   "codemirror_mode": {
    "name": "ipython",
    "version": 3
   },
   "file_extension": ".py",
   "mimetype": "text/x-python",
   "name": "python",
   "nbconvert_exporter": "python",
   "pygments_lexer": "ipython3",
   "version": "3.11.7"
  }
 },
 "nbformat": 4,
 "nbformat_minor": 5
}
